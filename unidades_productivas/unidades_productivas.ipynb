{
 "cells": [
  {
   "cell_type": "markdown",
   "metadata": {},
   "source": [
    "# Organización de unidades productivas"
   ]
  },
  {
   "cell_type": "markdown",
   "metadata": {},
   "source": [
    "## Limpieza de los datos"
   ]
  },
  {
   "cell_type": "markdown",
   "metadata": {},
   "source": [
    "<b>Objetivo:</b> eliminar las líneas innecesarias, y organizar los encabezados de los documentos. De esta manera podremos unificar todos los datos posteriormente."
   ]
  },
  {
   "cell_type": "code",
   "execution_count": 16,
   "metadata": {},
   "outputs": [],
   "source": [
    "import os\n",
    "\n",
    "def clean_data(input_folder, output_folder):\n",
    "    if not os.path.exists(output_folder):\n",
    "        os.makedirs(output_folder)\n",
    "\n",
    "    # Obtener la lista de archivos CSV en la carpeta de entrada\n",
    "    csv_file = [file for file in os.listdir(input_folder) if file.endswith('.csv')]\n",
    "\n",
    "    # Datos excepcionales\n",
    "    unuseful_words = ['Serie;;;2015;2016;2017;2018;2019;2020;2021;2022;2023(A)', 'empresarial']\n",
    "    headers = \"Serie;Codigo_municipio;Nombre;2022;2023\\n\"\n",
    "\n",
    "    # Limpiar y guardar los archivos CSV en la carpeta de salida\n",
    "    for file in csv_file:\n",
    "        original_file = os.path.join(input_folder, file)\n",
    "        clean_file = os.path.join(output_folder, file)\n",
    "        with open(original_file, 'r') as f_input, open(clean_file, 'w') as f_output:\n",
    "            \n",
    "            f_output.write(headers) \n",
    "            delete_next = False\n",
    "\n",
    "            for line in f_input:                    \n",
    "                if not delete_next:\n",
    "                    delete = False\n",
    "                    for word in unuseful_words:\n",
    "                        if word in line or line.strip() == ';':\n",
    "                            delete = True\n",
    "                    if line.strip() == '':\n",
    "                        delete = True\n",
    "                    elif '(A) Avance' in line:\n",
    "                        line = line.replace('(A) Avance ;', '')\n",
    "                    if not delete:\n",
    "                        fields = line.strip().split(';')\n",
    "                        f_output.write(';'.join(fields[:3] + fields[-3:]) + '\\n')\n",
    "                    if 'Zarzalejo' in line:\n",
    "                        delete_next = True\n",
    "\n",
    "input_folder = \".\\original_data\"\n",
    "output_folder = \".\\clean_data\"\n",
    "\n",
    "clean_data(input_folder, output_folder)\n"
   ]
  },
  {
   "cell_type": "markdown",
   "metadata": {},
   "source": [
    "## Suma de los datos por sector"
   ]
  },
  {
   "cell_type": "markdown",
   "metadata": {},
   "source": [
    "<b>Objetivo:</b> dividir los archivos por sector y hacer las sumas parciales de cada sector en su propio archivo <i>csv</I>"
   ]
  },
  {
   "cell_type": "code",
   "execution_count": 17,
   "metadata": {},
   "outputs": [],
   "source": [
    "import os, csv\n",
    "\n",
    "def sector_divider(input_folder, output_folder):\n",
    "\n",
    "    # Diccionario para almacenar los datos sumados por sector\n",
    "    sector_data = {'primario': {}, 'secundario': {}, 'terciario': {}}\n",
    "\n",
    "    # Obtener la lista de archivos CSV en la carpeta de entrada\n",
    "    csv_files = os.listdir(input_folder)\n",
    "\n",
    "    # Mapear cada archivo a su sector correspondiente y sumar los datos\n",
    "    for file in csv_files:\n",
    "        if file.endswith('.csv'):\n",
    "\n",
    "            # Determinar el sector según el nombre del archivo\n",
    "            if 'agricultura' in file or 'ganaderia' in file or 'pesca' in file:\n",
    "                sector = 'primario'\n",
    "            elif 'industria' in file or 'construccion' in file or 'electricidad' in file or 'agua' in file or 'metalurgia' in file:\n",
    "                sector = 'secundario'\n",
    "            else:\n",
    "                sector = 'terciario'\n",
    "\n",
    "            # Leer el archivo y sumar los datos por sector\n",
    "            with open(os.path.join(input_folder, file), 'r') as csv_file:\n",
    "                csv_reader = csv.reader(csv_file, delimiter=';')\n",
    "                next(csv_reader)\n",
    "\n",
    "                # Iterar sobre cada fila en el archivo CSV\n",
    "                for row in csv_reader:\n",
    "                    serie = row[0] if row else \"\"\n",
    "                    codigo_municipio = row[1] if len(row) > 1 else \"\"\n",
    "                    nombre = row[2] if len(row) > 2 else \"\"\n",
    "\n",
    "                    # Verificar si ya existe una entrada para esta serie y código de municipio\n",
    "                    key = (serie, codigo_municipio, nombre)\n",
    "                    if key in sector_data[sector]:\n",
    "                        for i in range(3, len(row)):\n",
    "                            sector_data[sector][key][i] += int(row[i]) if row[i] else 0\n",
    "                    else:\n",
    "                        sector_data[sector][key] = [serie, codigo_municipio, nombre] + [int(x) if x else 0 for x in row[3:]]\n",
    "\n",
    "    # Escribir los datos sumados por sector en archivos CSV\n",
    "    for sector, datos_sumados in sector_data.items():\n",
    "        output_path = os.path.join(output_folder, f'suma_{sector}.csv')\n",
    "\n",
    "        with open(output_path, 'w', newline='') as csv_file:\n",
    "            csv_writer = csv.writer(csv_file, delimiter=';')\n",
    "            csv_writer.writerow(['Serie', 'Codigo_municipio', 'Nombre', '2022', '2023'])\n",
    "            for key, values in datos_sumados.items():\n",
    "                csv_writer.writerow([key[0], key[1], key[2], *values[3:5]])\n",
    "\n",
    "input_folder = \"./clean_data\"\n",
    "output_folder = \"./suma_por_sector\"\n",
    "sector_divider(input_folder, output_folder)  "
   ]
  },
  {
   "cell_type": "markdown",
   "metadata": {},
   "source": [
    "## Suma de los datos por sector"
   ]
  },
  {
   "cell_type": "markdown",
   "metadata": {},
   "source": [
    "## Unión final de todos los datos en un mismo archivo <i>csv</i>"
   ]
  },
  {
   "cell_type": "code",
   "execution_count": 18,
   "metadata": {},
   "outputs": [],
   "source": [
    "import os\n",
    "import csv\n",
    "import re\n",
    "\n",
    "def join_data(folder_path, output_path):\n",
    "    join_data = {}\n",
    "    csv_files = sorted(os.listdir(folder_path))\n",
    "\n",
    "    # Iterar sobre cada archivo en la carpeta\n",
    "    for file in csv_files:\n",
    "        if file.endswith('.csv'):\n",
    "            with open(os.path.join(folder_path, file), 'r') as csv_file:\n",
    "                csv_reader = csv.reader(csv_file, delimiter=';')\n",
    "                next(csv_reader)\n",
    "                sector = file.split('.')[0].split('_')[1]\n",
    "\n",
    "                for row in csv_reader:\n",
    "                    serie = row[0] if row else \"\"\n",
    "                    codigo_municipio = row[1] if len(row) > 1 else \"\"\n",
    "                    nombre = row[2] if len(row) > 2 else \"\"\n",
    "\n",
    "                    # Verificar si la serie, código de municipio y nombre ya están en el diccionario\n",
    "                    if (serie, codigo_municipio, nombre) not in join_data:\n",
    "                        join_data[(serie, codigo_municipio, nombre)] = {}\n",
    "\n",
    "                    # Obtener los datos para cada intervalo de edad\n",
    "                    for i, valor in enumerate(row[3:5], start=2022):\n",
    "                        clave = f\"unidades_productivas_{sector}_{i}\"\n",
    "                        join_data[(serie, codigo_municipio, nombre)][clave] = int(valor) if valor else 0\n",
    "\n",
    "    # Escribir los datos sumados en un nuevo file CSV\n",
    "    with open(output_path, 'w', newline='') as csv_file:\n",
    "        csv_writer = csv.writer(csv_file, delimiter=';')\n",
    "        # Escribir los encabezados en el file CSV\n",
    "        final_keys = []\n",
    "\n",
    "        for key, values in join_data.items():\n",
    "            if final_keys == []:\n",
    "                final_keys.extend(values.keys())\n",
    "        final_keys = [str(clave) for clave in final_keys]\n",
    "\n",
    "        # Escribir los encabezados en el file CSV\n",
    "        csv_writer.writerow(['Serie', 'Codigo_municipio', 'Nombre', *final_keys])\n",
    "\n",
    "        # Escribir los datos sumados\n",
    "        for key, values in join_data.items():\n",
    "            line = [key[0], key[1], key[2]]\n",
    "            for clave in final_keys:\n",
    "                line.append(values.get(clave, '0'))\n",
    "            csv_writer.writerow(line)\n",
    "\n",
    "folder_path = './suma_por_sector'\n",
    "output_path = '../union_final/unidades_productivas.csv'\n",
    "\n",
    "join_data(folder_path, output_path)"
   ]
  }
 ],
 "metadata": {
  "kernelspec": {
   "display_name": "Python 3",
   "language": "python",
   "name": "python3"
  },
  "language_info": {
   "codemirror_mode": {
    "name": "ipython",
    "version": 3
   },
   "file_extension": ".py",
   "mimetype": "text/x-python",
   "name": "python",
   "nbconvert_exporter": "python",
   "pygments_lexer": "ipython3",
   "version": "3.9.0"
  }
 },
 "nbformat": 4,
 "nbformat_minor": 2
}
