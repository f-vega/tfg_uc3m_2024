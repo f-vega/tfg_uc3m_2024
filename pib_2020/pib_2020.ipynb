{
 "cells": [
  {
   "cell_type": "code",
   "execution_count": 2,
   "metadata": {},
   "outputs": [],
   "source": [
    "import pandas as pd\n",
    "\n",
    "# Lee el archivo .xls\n",
    "archivo_xls = pd.read_excel('pib_municipios_sector_2020.xls')\n",
    "\n",
    "# Guarda los datos en un archivo .csv\n",
    "archivo_xls.iloc[8:].to_csv('pib_municipios_sector_2020.csv', index=False, sep=';')\n"
   ]
  },
  {
   "cell_type": "code",
   "execution_count": 3,
   "metadata": {},
   "outputs": [],
   "source": [
    "import pandas as pd\n",
    "import re\n",
    "\n",
    "# Cargar los datos del primer CSV\n",
    "df1 = pd.read_csv('pib_municipios_sector_2020.csv', delimiter=';')\n",
    "df1.columns = ['Nombre', 'pib_primario', 'pib_secundario_1', 'pib_secundario_2', 'pib_terciario_1', 'pib_terciario_2', 'pib_terciario_3']\n",
    "df1 = df1.dropna(subset=['Nombre', 'pib_secundario_1', 'pib_secundario_2', 'pib_terciario_1', 'pib_terciario_2', 'pib_terciario_3'], how='all')\n",
    "\n",
    "# # Cargar los datos del segundo CSV\n",
    "df2 = pd.read_csv('../union_2020/paro_sector.csv', delimiter=';', dtype={'Codigo_municipio': str})\n",
    "\n",
    "# Eliminar las columnas no deseadas del segundo DataFrame\n",
    "df2 = df2.drop(columns=['paro_primario', 'paro_secundario', 'paro_terciario'])\n",
    "\n",
    "for i, name in df1['Nombre'].items():\n",
    "    escaped_name = re.escape(str(name))\n",
    "    matched_rows = df2[df2['Nombre'].str.contains(escaped_name)]\n",
    "    if not matched_rows.empty:\n",
    "        df1.loc[i, 'Nombre'] = matched_rows['Nombre'].values[0]\n",
    "\n",
    "# Combinar los DataFrames usando el nombre como clave\n",
    "result = pd.merge(df1, df2, on='Nombre', how='inner')\n",
    "result = result[['Serie', 'Codigo_municipio', 'Nombre', 'pib_primario', 'pib_secundario_1', 'pib_secundario_2', 'pib_terciario_1', 'pib_terciario_2', 'pib_terciario_3']]\n",
    "# print(result[result['Serie'] == 'Zonas Estadísticas'])\n",
    "# # Guardar el resultado en un nuevo archivo CSV\n",
    "result.to_csv('pib_sector.csv', index=False, sep=';')\n"
   ]
  },
  {
   "cell_type": "code",
   "execution_count": 27,
   "metadata": {},
   "outputs": [],
   "source": [
    "result = pd.read_csv('pib_sector.csv', delimiter=';', dtype={'Codigo_municipio': str})\n",
    "\n",
    "result['pib_secundario'] = result['pib_secundario_1'] + result['pib_secundario_2']\n",
    "result['pib_terciario'] = result['pib_terciario_1'] + result['pib_terciario_2'] + result['pib_terciario_3']\n",
    "\n",
    "# Agregar una columna 'sector' basada en el sector predominante\n",
    "for index, row in result.iterrows():\n",
    "    pib_primario = row['pib_primario']\n",
    "    pib_secundario = row['pib_secundario']\n",
    "    pib_terciario = row['pib_terciario']\n",
    "    \n",
    "    if pib_primario > pib_secundario and pib_primario > pib_terciario:\n",
    "        result.loc[index, 'sector'] = 'Primario'\n",
    "    elif pib_secundario > pib_primario and pib_secundario > pib_terciario:\n",
    "        result.loc[index, 'sector'] = 'Secundario'\n",
    "    else:\n",
    "        result.loc[index, 'sector'] = 'Terciario'\n",
    "\n",
    "result = result.iloc[:, [0, 1, 2, -1]]\n",
    "\n",
    "# Mostrar el resultado\n",
    "result.to_csv('../union_2020/sector.csv', index=False, sep=';')\n"
   ]
  }
 ],
 "metadata": {
  "kernelspec": {
   "display_name": "Python 3",
   "language": "python",
   "name": "python3"
  },
  "language_info": {
   "codemirror_mode": {
    "name": "ipython",
    "version": 3
   },
   "file_extension": ".py",
   "mimetype": "text/x-python",
   "name": "python",
   "nbconvert_exporter": "python",
   "pygments_lexer": "ipython3",
   "version": "3.9.0"
  }
 },
 "nbformat": 4,
 "nbformat_minor": 2
}
