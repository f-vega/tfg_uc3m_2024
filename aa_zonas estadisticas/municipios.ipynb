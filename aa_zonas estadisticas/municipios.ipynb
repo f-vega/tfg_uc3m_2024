{
 "cells": [
  {
   "cell_type": "markdown",
   "metadata": {},
   "source": [
    "# Organización del las zonas estadísticas"
   ]
  },
  {
   "cell_type": "markdown",
   "metadata": {},
   "source": [
    "### Regulación de formato de los datos"
   ]
  },
  {
   "cell_type": "markdown",
   "metadata": {},
   "source": [
    "<b>Objetivo:</b> regular el formato del archivo al mismo que los demás. Para ello cogemos un archivo al azar, como puede ser <i>paro.csv</i>"
   ]
  },
  {
   "cell_type": "code",
   "execution_count": 4,
   "metadata": {},
   "outputs": [
    {
     "ename": "FileNotFoundError",
     "evalue": "[Errno 2] No such file or directory: '../union_final/paro.csv'",
     "output_type": "error",
     "traceback": [
      "\u001b[1;31m---------------------------------------------------------------------------\u001b[0m",
      "\u001b[1;31mFileNotFoundError\u001b[0m                         Traceback (most recent call last)",
      "Cell \u001b[1;32mIn[4], line 73\u001b[0m\n\u001b[0;32m     70\u001b[0m input_file \u001b[38;5;241m=\u001b[39m \u001b[38;5;124m'\u001b[39m\u001b[38;5;124mmunicipio_comunidad_madrid.csv\u001b[39m\u001b[38;5;124m'\u001b[39m\n\u001b[0;32m     71\u001b[0m output_file \u001b[38;5;241m=\u001b[39m \u001b[38;5;124m'\u001b[39m\u001b[38;5;124m../union_final/aa_zonas_estadisticas.csv\u001b[39m\u001b[38;5;124m'\u001b[39m\n\u001b[1;32m---> 73\u001b[0m \u001b[43mrefactor_file\u001b[49m\u001b[43m(\u001b[49m\u001b[38;5;124;43m'\u001b[39;49m\u001b[38;5;124;43m../union_final/paro.csv\u001b[39;49m\u001b[38;5;124;43m'\u001b[39;49m\u001b[43m,\u001b[49m\u001b[43m \u001b[49m\u001b[38;5;124;43m'\u001b[39;49m\u001b[38;5;124;43mmunicipio_comunidad_madrid.csv\u001b[39;49m\u001b[38;5;124;43m'\u001b[39;49m\u001b[43m,\u001b[49m\u001b[43m \u001b[49m\u001b[38;5;124;43m'\u001b[39;49m\u001b[38;5;124;43m../union_final/aa_zonas_estadisticas.csv\u001b[39;49m\u001b[38;5;124;43m'\u001b[39;49m\u001b[43m)\u001b[49m\n\u001b[0;32m     74\u001b[0m refactor_file(\u001b[38;5;124m'\u001b[39m\u001b[38;5;124m../union_final/paro.csv\u001b[39m\u001b[38;5;124m'\u001b[39m, \u001b[38;5;124m'\u001b[39m\u001b[38;5;124mmunicipio_comunidad_madrid.csv\u001b[39m\u001b[38;5;124m'\u001b[39m, \u001b[38;5;124m'\u001b[39m\u001b[38;5;124m../union_2020/aa_zonas_estadisticas.csv\u001b[39m\u001b[38;5;124m'\u001b[39m)\n",
      "Cell \u001b[1;32mIn[4], line 28\u001b[0m, in \u001b[0;36mrefactor_file\u001b[1;34m(example_file, input_file, output_file)\u001b[0m\n\u001b[0;32m     25\u001b[0m data \u001b[38;5;241m=\u001b[39m {}\n\u001b[0;32m     27\u001b[0m \u001b[38;5;66;03m# Leer el primer archivo y almacenar los datos relevantes en el diccionario\u001b[39;00m\n\u001b[1;32m---> 28\u001b[0m \u001b[38;5;28;01mwith\u001b[39;00m \u001b[38;5;28;43mopen\u001b[39;49m\u001b[43m(\u001b[49m\u001b[43mexample_file\u001b[49m\u001b[43m,\u001b[49m\u001b[43m \u001b[49m\u001b[43mmode\u001b[49m\u001b[38;5;241;43m=\u001b[39;49m\u001b[38;5;124;43m'\u001b[39;49m\u001b[38;5;124;43mr\u001b[39;49m\u001b[38;5;124;43m'\u001b[39;49m\u001b[43m,\u001b[49m\u001b[43m \u001b[49m\u001b[43mencoding\u001b[49m\u001b[38;5;241;43m=\u001b[39;49m\u001b[38;5;124;43m'\u001b[39;49m\u001b[38;5;124;43mISO-8859-1\u001b[39;49m\u001b[38;5;124;43m'\u001b[39;49m\u001b[43m)\u001b[49m \u001b[38;5;28;01mas\u001b[39;00m f_base:\n\u001b[0;32m     29\u001b[0m     base_reader \u001b[38;5;241m=\u001b[39m csv\u001b[38;5;241m.\u001b[39mreader(f_base, delimiter\u001b[38;5;241m=\u001b[39m\u001b[38;5;124m'\u001b[39m\u001b[38;5;124m;\u001b[39m\u001b[38;5;124m'\u001b[39m)\n\u001b[0;32m     30\u001b[0m     headers_base \u001b[38;5;241m=\u001b[39m \u001b[38;5;28mnext\u001b[39m(base_reader)[:\u001b[38;5;241m3\u001b[39m]\n",
      "File \u001b[1;32m~\\AppData\\Roaming\\Python\\Python39\\site-packages\\IPython\\core\\interactiveshell.py:284\u001b[0m, in \u001b[0;36m_modified_open\u001b[1;34m(file, *args, **kwargs)\u001b[0m\n\u001b[0;32m    277\u001b[0m \u001b[38;5;28;01mif\u001b[39;00m file \u001b[38;5;129;01min\u001b[39;00m {\u001b[38;5;241m0\u001b[39m, \u001b[38;5;241m1\u001b[39m, \u001b[38;5;241m2\u001b[39m}:\n\u001b[0;32m    278\u001b[0m     \u001b[38;5;28;01mraise\u001b[39;00m \u001b[38;5;167;01mValueError\u001b[39;00m(\n\u001b[0;32m    279\u001b[0m         \u001b[38;5;124mf\u001b[39m\u001b[38;5;124m\"\u001b[39m\u001b[38;5;124mIPython won\u001b[39m\u001b[38;5;124m'\u001b[39m\u001b[38;5;124mt let you open fd=\u001b[39m\u001b[38;5;132;01m{\u001b[39;00mfile\u001b[38;5;132;01m}\u001b[39;00m\u001b[38;5;124m by default \u001b[39m\u001b[38;5;124m\"\u001b[39m\n\u001b[0;32m    280\u001b[0m         \u001b[38;5;124m\"\u001b[39m\u001b[38;5;124mas it is likely to crash IPython. If you know what you are doing, \u001b[39m\u001b[38;5;124m\"\u001b[39m\n\u001b[0;32m    281\u001b[0m         \u001b[38;5;124m\"\u001b[39m\u001b[38;5;124myou can use builtins\u001b[39m\u001b[38;5;124m'\u001b[39m\u001b[38;5;124m open.\u001b[39m\u001b[38;5;124m\"\u001b[39m\n\u001b[0;32m    282\u001b[0m     )\n\u001b[1;32m--> 284\u001b[0m \u001b[38;5;28;01mreturn\u001b[39;00m io_open(file, \u001b[38;5;241m*\u001b[39margs, \u001b[38;5;241m*\u001b[39m\u001b[38;5;241m*\u001b[39mkwargs)\n",
      "\u001b[1;31mFileNotFoundError\u001b[0m: [Errno 2] No such file or directory: '../union_final/paro.csv'"
     ]
    }
   ],
   "source": [
    "import csv\n",
    "\n",
    "replacements = {\n",
    "    'Ã­': 'í',\n",
    "    'Ã±': 'ñ',\n",
    "    'Ã³': 'ó',\n",
    "    'Ã¡': 'á',\n",
    "    'Ã©': 'é',\n",
    "    'Ãº': 'ú',\n",
    "    'Ãœ': 'Ü',\n",
    "    'Ã¼': 'ü',\n",
    "    'Ã ': 'Á',\n",
    "    'Ã‰': 'É',\n",
    "    'Ã“': 'Ó',\n",
    "    'Ãš': 'Ú'\n",
    "}\n",
    "\n",
    "def replace_chars(text):\n",
    "        for src, target in replacements.items():\n",
    "            text = text.replace(src, target)\n",
    "        return text\n",
    "\n",
    "def refactor_file(example_file, input_file, output_file):\n",
    "    # Diccionario para almacenar los datos del primer archivo\n",
    "    data = {}\n",
    "\n",
    "    # Leer el primer archivo y almacenar los datos relevantes en el diccionario\n",
    "    with open(example_file, mode='r', encoding='ISO-8859-1') as f_base:\n",
    "        base_reader = csv.reader(f_base, delimiter=';')\n",
    "        headers_base = next(base_reader)[:3]\n",
    "\n",
    "        # Crear una clave única para cada entrada\n",
    "        for row in base_reader:\n",
    "            # Aplicar los reemplazos a las primeras 3 columnas\n",
    "            row = [replace_chars(column) for column in row[:3]]\n",
    "            key = ';'.join(row)\n",
    "            data[key] = {}\n",
    "\n",
    "    # Leer el segundo archivo y combinar los datos\n",
    "    with open(input_file, mode='r', encoding='ISO-8859-1') as f2:\n",
    "        reader = csv.reader(f2, delimiter=';')\n",
    "        next(reader)\n",
    "\n",
    "        for row in reader:\n",
    "            nombre = row[1]  # Obtener el nombre del municipio de la fila actual\n",
    "            for key in data:\n",
    "                if nombre in key:\n",
    "                    data[key] = row[2:6]\n",
    "\n",
    "\n",
    "    # Escribir los datos sumados en un nuevo archivo CSV\n",
    "    with open(output_file, 'w', newline='', encoding='utf-8') as csv_file:\n",
    "        csv_writer = csv.writer(csv_file, delimiter=';')\n",
    "        \n",
    "        # Escribir los encabezados\n",
    "        headers = (headers_base[0], headers_base[1], headers_base[2],\n",
    "                'municipio_codigo_ine', 'zona_estadistica_codigo', 'zona_estadistica', 'superficie_km2')\n",
    "        csv_writer.writerow(headers)\n",
    "\n",
    "        # Escribir los datos sumados\n",
    "        for key, values in data.items():\n",
    "            line = [key.split(';')[0], key.split(';')[1], key.split(';')[2]] + [v if v != '' else '0' for v in values]\n",
    "            # Añadir valores nulos para que todas las filas tengan el mismo número de datos\n",
    "            while len(line) < len(headers):\n",
    "                line.append('0')\n",
    "            \n",
    "            csv_writer.writerow(line)\n",
    "\n",
    "example_file = '../union_final/paro.csv'\n",
    "input_file = 'municipio_comunidad_madrid.csv'\n",
    "output_file = '../union_final/aa_zonas_estadisticas.csv'\n",
    "\n",
    "refactor_file('../union_final/paro.csv', 'municipio_comunidad_madrid.csv', '../union_final/aa_zonas_estadisticas.csv')\n",
    "refactor_file('../union_final/paro.csv', 'municipio_comunidad_madrid.csv', '../union_2020/aa_zonas_estadisticas.csv')"
   ]
  },
  {
   "cell_type": "markdown",
   "metadata": {},
   "source": [
    "Importante anotar que tenemos en cuenta que no han cambiado las superficies de los municipios ni sus zonas estadísticas ni na"
   ]
  },
  {
   "cell_type": "code",
   "execution_count": 9,
   "metadata": {},
   "outputs": [],
   "source": [
    "import os\n",
    "\n",
    "def clean_data(input_file, output_file):\n",
    "\n",
    "    # Obtener la lista de archivos CSV en la carpeta de entrada\n",
    "\n",
    "    # Datos excepcionales\n",
    "    unuseful_words = ['Condiciones', 'Serie;;;']\n",
    "    headers = \"Serie;Codigo_municipio;Nombre;distancia_capital\\n\"\n",
    "\n",
    "\n",
    "    # Limpiar y guardar los archivos CSV en la carpeta de salida\n",
    "    with open(input_file, 'r') as f_input, open(output_file, 'w') as f_output:\n",
    "        # Escribir los headers\n",
    "        f_output.write(headers) \n",
    "        delete_next = False\n",
    "        for line in f_input:                    \n",
    "            if not delete_next:\n",
    "                delete = False\n",
    "                for word in unuseful_words:\n",
    "                    if word in line:\n",
    "                        delete = True\n",
    "                if line.strip() == '':\n",
    "                    delete = True\n",
    "                if not delete:\n",
    "                    fields = line.strip().split(';')\n",
    "                    f_output.write(';'.join(fields[:4]) + '\\n')\n",
    "                # Eliminar líneas posteriores al ser el último municipio\n",
    "                if 'Zarzalejo' in line:\n",
    "                    delete_next = True\n",
    "\n",
    "clean_data(\"distancia_capital.csv\", \"distancia_capital_clean.csv\")\n"
   ]
  },
  {
   "cell_type": "markdown",
   "metadata": {},
   "source": [
    "Son datos del 2016"
   ]
  },
  {
   "cell_type": "code",
   "execution_count": 10,
   "metadata": {},
   "outputs": [],
   "source": [
    "import csv\n",
    "def refactor_file(example_file, input_file, output_file):\n",
    "    # Diccionario para almacenar los datos del primer archivo\n",
    "    data = {}\n",
    "\n",
    "    # Leer el primer archivo y almacenar los datos relevantes en el diccionario\n",
    "    with open(example_file, mode='r', encoding='latin-1') as f_base:\n",
    "        base_reader = csv.reader(f_base, delimiter=';')\n",
    "        headers_base = next(base_reader)[:3]\n",
    "\n",
    "        # Crear una clave única para cada entrada\n",
    "        for row in base_reader:\n",
    "            # Aplicar los reemplazos a las primeras 3 columnas\n",
    "            row = [replace_chars(column) for column in row[:3]]\n",
    "            key = ';'.join(row)\n",
    "            data[key] = {}\n",
    "\n",
    "    # Leer el segundo archivo y combinar los datos\n",
    "    with open(input_file, mode='r', encoding='latin-1') as f2:\n",
    "        reader = csv.reader(f2, delimiter=';')\n",
    "        next(reader)\n",
    "\n",
    "        for row in reader:\n",
    "            nombre = row[1]  # Obtener el nombre del municipio de la fila actual\n",
    "            for key in data:\n",
    "                if nombre in key:\n",
    "                    data[key] = row[3:4]\n",
    "\n",
    "\n",
    "    # Escribir los datos sumados en un nuevo archivo CSV\n",
    "    with open(output_file, 'w', newline='', encoding='utf-8') as csv_file:\n",
    "        csv_writer = csv.writer(csv_file, delimiter=';')\n",
    "        \n",
    "        # Escribir los encabezados\n",
    "        headers = (headers_base[0], headers_base[1], headers_base[2], 'distancia_capital')\n",
    "        csv_writer.writerow(headers)\n",
    "\n",
    "        # Escribir los datos sumados\n",
    "        for key, values in data.items():\n",
    "            line = [key.split(';')[0], key.split(';')[1], key.split(';')[2]] + [v if v != '' else '0' for v in values]\n",
    "            # Añadir valores nulos para que todas las filas tengan el mismo número de datos\n",
    "            while len(line) < len(headers):\n",
    "                line.append('0')\n",
    "            \n",
    "            csv_writer.writerow(line)\n",
    "\n",
    "refactor_file('../union_final/data/paro.csv', 'distancia_capital_clean.csv', '../union_final/data/distancia_capital.csv')\n",
    "refactor_file('../union_final/data/paro.csv', 'distancia_capital_clean.csv', '../union_2020/distancia_capital.csv')"
   ]
  }
 ],
 "metadata": {
  "kernelspec": {
   "display_name": "Python 3",
   "language": "python",
   "name": "python3"
  },
  "language_info": {
   "codemirror_mode": {
    "name": "ipython",
    "version": 3
   },
   "file_extension": ".py",
   "mimetype": "text/x-python",
   "name": "python",
   "nbconvert_exporter": "python",
   "pygments_lexer": "ipython3",
   "version": "3.9.0"
  }
 },
 "nbformat": 4,
 "nbformat_minor": 2
}
