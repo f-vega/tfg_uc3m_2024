{
 "cells": [
  {
   "cell_type": "markdown",
   "metadata": {},
   "source": [
    "# Organización del número de personas afiliadas a la seguridad social"
   ]
  },
  {
   "cell_type": "markdown",
   "metadata": {},
   "source": [
    "## Limpieza de los datos"
   ]
  },
  {
   "cell_type": "markdown",
   "metadata": {},
   "source": [
    "<b>Objetivo:</b> eliminar las líneas innecesarias, y organizar los encabezados de los documentos. De esta manera podremos unificar todos los datos posteriormente."
   ]
  },
  {
   "cell_type": "code",
   "execution_count": 1,
   "metadata": {},
   "outputs": [],
   "source": [
    "import os\n",
    "\n",
    "def clean_data(input_folder, output_folder):\n",
    "    # Crear la carpeta de salida si no existe\n",
    "    if not os.path.exists(output_folder):\n",
    "        os.makedirs(output_folder)\n",
    "\n",
    "    # Obtener la lista de archivos CSV en la carpeta de entrada\n",
    "    csv_files = [file for file in os.listdir(input_folder) if file.endswith('.csv')]\n",
    "\n",
    "    # Datos excepcionales\n",
    "    unuseful_words = ['actividad', 'Serie;;;', 'Sin Zona asignada']\n",
    "    headers = \"Serie;Codigo_municipio;Nombre;2022;2023\\n\"\n",
    "\n",
    "    # Limpiar y guardar los archivos CSV en la carpeta de salida\n",
    "    for file in csv_files:\n",
    "        original_file = os.path.join(input_folder, file)\n",
    "        clean_file = os.path.join(output_folder, file)\n",
    "        with open(original_file, 'r') as f_input, open(clean_file, 'w') as f_output:\n",
    "            f_output.write(headers) \n",
    "            delete_next = False\n",
    "            for line in f_input:                    \n",
    "                if not delete_next:\n",
    "                    delete = False\n",
    "                    for word in unuseful_words:\n",
    "                        if word in line:\n",
    "                            delete = True\n",
    "                    if line.strip() == '':\n",
    "                        delete = True\n",
    "                    elif '-' in line:\n",
    "                        line = line.replace('-', '0')\n",
    "                    if not delete:\n",
    "                        fields = line.strip().split(';')\n",
    "                        f_output.write(';'.join(fields[:3] + fields[-3:]) + '\\n')\n",
    "                    # Eliminar filas posteriores al ser el último municipio\n",
    "                    \n",
    "                    if 'Zarzalejo' in line:\n",
    "                        delete_next = True\n",
    "\n",
    "input_folder = \".\\original_data\"\n",
    "output_folder = \".\\clean_data\"\n",
    "\n",
    "clean_data(input_folder, output_folder)\n"
   ]
  },
  {
   "cell_type": "markdown",
   "metadata": {},
   "source": [
    "## Unión de los datos"
   ]
  },
  {
   "cell_type": "markdown",
   "metadata": {},
   "source": [
    "<b>Objetivo:</b> unir todos los archivos de la carpeta en uno solo, con sus encabezados correspondientes. Guardar el <i>.csv</i> resultante en la carpeta <i>union_final</i> para poder añadir los datos al archivo final."
   ]
  },
  {
   "cell_type": "code",
   "execution_count": 2,
   "metadata": {},
   "outputs": [],
   "source": [
    "import os, csv\n",
    "\n",
    "def join_data(folder_path, output_path):\n",
    "\n",
    "    # Crear un diccionario para almacenar los datos unidos\n",
    "    join_data = {}\n",
    "\n",
    "    # Obtener la lista de archivos en la carpeta\n",
    "    files = os.listdir(folder_path)\n",
    "\n",
    "    for file in files:\n",
    "        if file.endswith('.csv'):\n",
    "            with open(os.path.join(folder_path, file), 'r') as csv_file:\n",
    "                csv_reader = csv.reader(csv_file, delimiter=';')\n",
    "\n",
    "                # Saltar la primera fila que contiene los headers\n",
    "                next(csv_reader)\n",
    "\n",
    "                # Obtener los nombres de los archivos que irán en los headers\n",
    "                type = file.split('_')[0]\n",
    "                subtype = file.split('.')[0].split('_')[-2:]\n",
    "                    \n",
    "                # Iterar sobre cada fila en el file CSV\n",
    "                for row in csv_reader:\n",
    "                    serie = row[0] if row else \"\"\n",
    "                    codigo_municipio = row[1] if len(row) > 1 else \"\"\n",
    "                    nombre = row[2] if len(row) > 2 else \"\"\n",
    "                    \n",
    "                    # Verificar si la serie, código de municipio y nombre ya están en el diccionario\n",
    "                    if (serie, codigo_municipio, nombre) not in join_data:\n",
    "                        join_data[(serie, codigo_municipio, nombre)] = {}\n",
    "\n",
    "                    # Obtener los datos de cada año para el intervalo de edad actual\n",
    "                    for i, value in enumerate(row[3:5], start=2022):\n",
    "                        # Establecer los nombres de los headers de los datos\n",
    "                        if 'ss' in subtype:\n",
    "                            key = f\"{type}_{subtype[1]}_{i}\"\n",
    "                        else:\n",
    "                            key = f\"{type}_afiliados_{subtype[0]}_{subtype[1]}_{i}\"\n",
    "\n",
    "                        # Agregar los datos al diccionario enlazado\n",
    "                        join_data[(serie, codigo_municipio, nombre)][key] = value\n",
    "\n",
    "    # Escribir los datos unidos en un nuevo file CSV\n",
    "    with open(output_path, 'w', newline='') as csv_file:\n",
    "        csv_writer = csv.writer(csv_file, delimiter=';')\n",
    "\n",
    "        # Escribir los encabezados\n",
    "        final_keys = []\n",
    "\n",
    "        for key, values in join_data.items():\n",
    "            if final_keys == []:\n",
    "                final_keys.extend(values.keys())\n",
    "        final_keys = [str(clave) for clave in final_keys]\n",
    "\n",
    "        # Escribir los encabezados en el file CSV\n",
    "        csv_writer.writerow(['Serie', 'Codigo_municipio', 'Nombre', *final_keys])\n",
    "\n",
    "        # Escribir los datos unidos\n",
    "        for key, values in join_data.items():\n",
    "            line = [key[0], key[1], key[2]]\n",
    "            for clave in final_keys:\n",
    "                line.append(values.get(clave, ))\n",
    "            csv_writer.writerow(line)\n",
    "\n",
    "folder_path = './clean_data'\n",
    "output_path = '../union_final/data/afiliados_ss.csv'\n",
    "\n",
    "join_data(folder_path, output_path)\n",
    "\n"
   ]
  }
 ],
 "metadata": {
  "kernelspec": {
   "display_name": "Python 3",
   "language": "python",
   "name": "python3"
  },
  "language_info": {
   "codemirror_mode": {
    "name": "ipython",
    "version": 3
   },
   "file_extension": ".py",
   "mimetype": "text/x-python",
   "name": "python",
   "nbconvert_exporter": "python",
   "pygments_lexer": "ipython3",
   "version": "3.9.0"
  }
 },
 "nbformat": 4,
 "nbformat_minor": 2
}
