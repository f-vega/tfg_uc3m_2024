{
 "cells": [
  {
   "cell_type": "code",
   "execution_count": 3,
   "metadata": {},
   "outputs": [],
   "source": [
    "import pandas as pd\n",
    "import numpy as np\n",
    "import matplotlib.pyplot as plt\n"
   ]
  },
  {
   "cell_type": "markdown",
   "metadata": {},
   "source": [
    "## Obtención de los datos"
   ]
  },
  {
   "cell_type": "code",
   "execution_count": 4,
   "metadata": {},
   "outputs": [
    {
     "name": "stderr",
     "output_type": "stream",
     "text": [
      "C:\\Users\\ana\\AppData\\Local\\Temp\\ipykernel_21196\\1068069183.py:9: UserWarning: Boolean Series key will be reindexed to match DataFrame index.\n",
      "  train_data = data_2020[data_2020['Serie'] == 'Municipios'][data_2020['Nombre'] != 'Madrid'].iloc[:, 6:]\n",
      "C:\\Users\\ana\\AppData\\Local\\Temp\\ipykernel_21196\\1068069183.py:10: UserWarning: Boolean Series key will be reindexed to match DataFrame index.\n",
      "  test_data = data_2023[data_2023['Serie'] == 'Municipios'][data_2023['Nombre'] != 'Madrid'].iloc[:, 6:]\n",
      "C:\\Users\\ana\\AppData\\Local\\Temp\\ipykernel_21196\\1068069183.py:12: UserWarning: Boolean Series key will be reindexed to match DataFrame index.\n",
      "  join_data = data_2023[data_2023['Serie'] == 'Municipios'][data_2023['Nombre'] != 'Madrid'].iloc[:, :6]\n"
     ]
    }
   ],
   "source": [
    "# Leer los datos\n",
    "data_2023 = pd.read_csv('../datos_2023.csv', delimiter=';', encoding='latin-1', dtype={'superficie_km2': float, 'Codigo_municipio': str})\n",
    "data_2020 = pd.read_csv('../datos_2020.csv', delimiter=';', encoding='latin-1', dtype={'superficie_km2': float})\n",
    "\n",
    "# Selecciona las columnas deseadas\n",
    "selected_columns = data_2020.columns\n",
    "\n",
    "# Selecciona las columnas deseadas del DataFrame de municipios\n",
    "train_data = data_2020[data_2020['Serie'] == 'Municipios'][data_2020['Nombre'] != 'Madrid'].iloc[:, 6:]\n",
    "test_data = data_2023[data_2023['Serie'] == 'Municipios'][data_2023['Nombre'] != 'Madrid'].iloc[:, 6:]\n",
    "test_data = test_data[selected_columns.intersection(test_data.columns)]\n",
    "join_data = data_2023[data_2023['Serie'] == 'Municipios'][data_2023['Nombre'] != 'Madrid'].iloc[:, :6]"
   ]
  },
  {
   "cell_type": "code",
   "execution_count": 5,
   "metadata": {},
   "outputs": [],
   "source": [
    "X_train = train_data.drop(columns=['sector'])\n",
    "y_train = train_data['sector']"
   ]
  },
  {
   "cell_type": "code",
   "execution_count": 6,
   "metadata": {},
   "outputs": [],
   "source": [
    "# import numpy as np\n",
    "# from sklearn.linear_model import LogisticRegression\n",
    "\n",
    "# # 1. Agrupar los datos por sector\n",
    "# grouped_data = train_data.groupby('sector')\n",
    "\n",
    "# # 2. Calcular estadísticas descriptivas para cada atributo y sector\n",
    "# stats_by_sector = grouped_data.agg({\n",
    "#     'sup_explotaciones_agricolas_total': [np.mean, np.std, np.max, np.min],\n",
    "#     'sup_total_indust': [np.mean, np.std, np.max, np.min],\n",
    "#     'paro_primario': [np.mean, np.std, np.max, np.min],\n",
    "#     'paro_secundario': [np.mean, np.std, np.max, np.min],\n",
    "#     'paro_terciario': [np.mean, np.std, np.max, np.min],\n",
    "#     'poblacion_censada': [np.mean, np.std, np.max, np.min]\n",
    "# })\n",
    "\n",
    "# # 3. Crear un conjunto de datos para el modelo\n",
    "# X_train = stats_by_sector.values\n",
    "# y_train = stats_by_sector.index\n",
    "\n",
    "# # Entrenar un modelo (usando la regresión logística en este ejemplo)\n",
    "# model = LogisticRegression()\n",
    "# model.fit(X_train, y_train)\n"
   ]
  },
  {
   "cell_type": "code",
   "execution_count": 7,
   "metadata": {},
   "outputs": [],
   "source": [
    "# import seaborn as sns\n",
    "# import matplotlib.pyplot as plt\n",
    "\n",
    "# print(train_data.columns)\n",
    "# # Calcular la matriz de correlación\n",
    "\n",
    "# dummy_sector = pd.get_dummies(train_data['sector'])\n",
    "# train_data_dummy = pd.concat([train_data, dummy_sector], axis=1)\n",
    "# train_data_dummy = train_data_dummy\n",
    "# corr_data = train_data_dummy.drop(columns=['sector'], inplace=True)\n",
    "# correlation_matrix =train_data_dummy.corr()\n",
    "\n",
    "# # Configurar el tamaño de la figura\n",
    "# plt.figure(figsize=(12, 10))\n",
    "\n",
    "# # Crear el mapa de calor de la matriz de correlación\n",
    "# sns.heatmap(correlation_matrix, annot=True, cmap='coolwarm', fmt=\".2f\")\n",
    "\n",
    "# # Añadir título\n",
    "# plt.title('Matriz de Correlación de Atributos')\n",
    "\n",
    "# # Mostrar el plot\n",
    "# plt.show()\n"
   ]
  },
  {
   "cell_type": "code",
   "execution_count": 8,
   "metadata": {},
   "outputs": [],
   "source": [
    "# mask = correlation_matrix.abs() >= 0.8\n",
    "# reduced_correlation_matrix = correlation_matrix.mask(mask)\n",
    "\n",
    "# # Configurar el tamaño de la figura\n",
    "# plt.figure(figsize=(24, 20))\n",
    "\n",
    "# # Crear el mapa de calor de la matriz de correlación\n",
    "# sns.heatmap(reduced_correlation_matrix, annot=True, cmap='coolwarm', fmt=\".2f\")\n",
    "\n",
    "# # Añadir título\n",
    "# plt.title('Matriz de Correlación de Atributos')\n",
    "\n",
    "# # Mostrar el plot\n",
    "# plt.show()\n"
   ]
  },
  {
   "cell_type": "code",
   "execution_count": 9,
   "metadata": {},
   "outputs": [
    {
     "name": "stdout",
     "output_type": "stream",
     "text": [
      "              precision    recall  f1-score   support\n",
      "\n",
      "           0       0.00      0.00      0.00         1\n",
      "           1       0.97      1.00      0.99        35\n",
      "\n",
      "    accuracy                           0.97        36\n",
      "   macro avg       0.49      0.50      0.49        36\n",
      "weighted avg       0.95      0.97      0.96        36\n",
      "\n"
     ]
    },
    {
     "name": "stderr",
     "output_type": "stream",
     "text": [
      "c:\\Users\\ana\\AppData\\Local\\Programs\\Python\\Python39\\lib\\site-packages\\sklearn\\metrics\\_classification.py:1344: UndefinedMetricWarning: Precision and F-score are ill-defined and being set to 0.0 in labels with no predicted samples. Use `zero_division` parameter to control this behavior.\n",
      "  _warn_prf(average, modifier, msg_start, len(result))\n",
      "c:\\Users\\ana\\AppData\\Local\\Programs\\Python\\Python39\\lib\\site-packages\\sklearn\\metrics\\_classification.py:1344: UndefinedMetricWarning: Precision and F-score are ill-defined and being set to 0.0 in labels with no predicted samples. Use `zero_division` parameter to control this behavior.\n",
      "  _warn_prf(average, modifier, msg_start, len(result))\n",
      "c:\\Users\\ana\\AppData\\Local\\Programs\\Python\\Python39\\lib\\site-packages\\sklearn\\metrics\\_classification.py:1344: UndefinedMetricWarning: Precision and F-score are ill-defined and being set to 0.0 in labels with no predicted samples. Use `zero_division` parameter to control this behavior.\n",
      "  _warn_prf(average, modifier, msg_start, len(result))\n"
     ]
    }
   ],
   "source": [
    "import pandas as pd\n",
    "from sklearn.model_selection import train_test_split\n",
    "from sklearn.preprocessing import LabelEncoder\n",
    "from sklearn.ensemble import RandomForestClassifier\n",
    "from sklearn.metrics import classification_report\n",
    "from sklearn.impute import SimpleImputer\n",
    "\n",
    "\n",
    "# Codificar la variable categórica 'sector'\n",
    "label_encoder = LabelEncoder()\n",
    "train_data['sector_encoded'] = label_encoder.fit_transform(train_data['sector'])\n",
    "\n",
    "# Dividir datos en variables independientes y dependiente\n",
    "X = train_data.drop(['sector', 'sector_encoded'], axis=1)\n",
    "y = train_data['sector_encoded']\n",
    "\n",
    "# Dividir datos en conjuntos de entrenamiento y prueba\n",
    "X_train, X_test, y_train, y_test = train_test_split(X, y, test_size=0.2, random_state=42)\n",
    "\n",
    "# Crear un imputador para reemplazar los valores faltantes con la media\n",
    "imputer = SimpleImputer(strategy='mean')\n",
    "\n",
    "# Aplicar el imputador a tus datos de entrenamiento\n",
    "X_train_imputed = imputer.fit_transform(X_train)\n",
    "\n",
    "\n",
    "# Entrenamiento del modelo (Random Forest Classifier como ejemplo)\n",
    "rf_model = RandomForestClassifier()\n",
    "rf_model.fit(X_train_imputed, y_train)\n",
    "\n",
    "\n",
    "# Aplicar el mismo imputador a tus datos de prueba\n",
    "X_test_imputed = imputer.transform(X_test)\n",
    "\n",
    "# Realizar predicciones en tus datos de prueba imputados\n",
    "# Validación del modelo\n",
    "y_pred = rf_model.predict(X_test_imputed)\n",
    "print(classification_report(y_test, y_pred))\n",
    "\n",
    "\n",
    "# Preprocesamiento similar al de los datos del 2020\n",
    "data_predict_imputed = imputer.transform(test_data)\n",
    "\n",
    "nan_indices = np.isnan(data_predict_imputed).any(axis=0)\n",
    "columnas_con_nan = np.where(nan_indices)[0]\n",
    "\n",
    "\n",
    "# Predecir el sector para el año 2023\n",
    "predictions_2023 = rf_model.predict(data_predict_imputed)\n",
    "\n",
    "# Decodificar las predicciones si es necesario\n",
    "predictions_decoded = label_encoder.inverse_transform(predictions_2023)\n",
    "\n",
    "# Agregar las predicciones al dataframe de 2023\n",
    "test_data['sector'] = predictions_decoded\n",
    "\n",
    "test_data.to_csv('prueba.csv', sep=';', index=False)"
   ]
  },
  {
   "cell_type": "code",
   "execution_count": 10,
   "metadata": {},
   "outputs": [],
   "source": [
    "test_data['Nombre'] = data_2023['Nombre']\n",
    "\n",
    "# Combinar los DataFrames usando el nombre como clave\n",
    "csv = pd.merge(data_2023, test_data, on=['Nombre'], how='inner')\n",
    "csv = csv.iloc[:, :6]\n",
    "\n",
    "# Asigna el sector de test_data a los municipios correspondientes en csv\n",
    "csv['sector'] = csv['Nombre'].map(test_data.set_index('Nombre')['sector'])\n",
    "\n",
    "csv.to_csv('cluster_sector.csv', index=False, sep=';', encoding='latin-1')"
   ]
  }
 ],
 "metadata": {
  "kernelspec": {
   "display_name": "Python 3",
   "language": "python",
   "name": "python3"
  },
  "language_info": {
   "codemirror_mode": {
    "name": "ipython",
    "version": 3
   },
   "file_extension": ".py",
   "mimetype": "text/x-python",
   "name": "python",
   "nbconvert_exporter": "python",
   "pygments_lexer": "ipython3",
   "version": "3.9.0"
  }
 },
 "nbformat": 4,
 "nbformat_minor": 2
}
