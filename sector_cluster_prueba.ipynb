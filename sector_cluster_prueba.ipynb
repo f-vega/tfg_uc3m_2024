{
 "cells": [
  {
   "cell_type": "code",
   "execution_count": 14,
   "metadata": {},
   "outputs": [],
   "source": [
    "import pandas as pd\n",
    "import numpy as np\n",
    "import matplotlib.pyplot as plt\n"
   ]
  },
  {
   "cell_type": "markdown",
   "metadata": {},
   "source": [
    "## Obtención de los datos"
   ]
  },
  {
   "cell_type": "code",
   "execution_count": 19,
   "metadata": {},
   "outputs": [
    {
     "name": "stderr",
     "output_type": "stream",
     "text": [
      "C:\\Users\\ana\\AppData\\Local\\Temp\\ipykernel_2604\\66908939.py:5: UserWarning: Boolean Series key will be reindexed to match DataFrame index.\n",
      "  municipios_data = data[data['Serie'] == 'Municipios'][data['Nombre'] != 'Madrid']\n"
     ]
    }
   ],
   "source": [
    "# Leer los datos\n",
    "data = pd.read_csv('datos_2023.csv', delimiter=';', encoding='ISO-8859-1', dtype={'superficie_km2': float})\n",
    "\n",
    "# Filtra los datos para obtener solo los municipios\n",
    "municipios_data = data[data['Serie'] == 'Municipios'][data['Nombre'] != 'Madrid']\n",
    "\n",
    "# Selecciona las columnas deseadas\n",
    "selected_columns = ['superficie_km2', \n",
    "                    'contratos_primario_temp_2023', 'contratos_primario_indefinidos_2023', \n",
    "                    'contratos_primario_total_2023', 'contratos_secundario_temp_2023', \n",
    "                    'contratos_secundario_indefinidos_2023', 'contratos_secundario_total_2023',\n",
    "                    'contratos_terciario_temp_2023', 'contratos_terciario_indefinidos_2023', \n",
    "                    'contratos_terciario_total_2023', 'contratos_porcentaje_indefinidos_2023',\n",
    "                    'contratos_porcentaje_temp_2023', 'contratos_total_registrados_2023', 'ocupados_primario_2023',\n",
    "                    'ocupados_secundario_2023', 'ocupados_terciario_2023', 'sup_explotaciones_agricolas_total', \n",
    "                    'sup_explotaciones_agricolas_huertos_consumo_propio', 'sup_total_indust', 'unidades_productivas_primario_2023',\n",
    "                    'unidades_productivas_secundario_2023', 'unidades_productivas_terciario_2023']\n",
    "\n",
    "# Selecciona las columnas deseadas del DataFrame de municipios\n",
    "clustering_data = municipios_data[selected_columns]"
   ]
  },
  {
   "cell_type": "markdown",
   "metadata": {},
   "source": [
    "## EDA"
   ]
  },
  {
   "cell_type": "code",
   "execution_count": 20,
   "metadata": {},
   "outputs": [
    {
     "name": "stderr",
     "output_type": "stream",
     "text": [
      "C:\\Users\\ana\\AppData\\Local\\Temp\\ipykernel_2604\\2031130272.py:4: SettingWithCopyWarning: \n",
      "A value is trying to be set on a copy of a slice from a DataFrame.\n",
      "Try using .loc[row_indexer,col_indexer] = value instead\n",
      "\n",
      "See the caveats in the documentation: https://pandas.pydata.org/pandas-docs/stable/user_guide/indexing.html#returning-a-view-versus-a-copy\n",
      "  clustering_data['superficie_agricola_ratio'] = np.where(clustering_data['superficie_km2'] != 0, sup_utiles_agric_km2 / clustering_data['superficie_km2'], 0)\n",
      "C:\\Users\\ana\\AppData\\Local\\Temp\\ipykernel_2604\\2031130272.py:7: SettingWithCopyWarning: \n",
      "A value is trying to be set on a copy of a slice from a DataFrame.\n",
      "Try using .loc[row_indexer,col_indexer] = value instead\n",
      "\n",
      "See the caveats in the documentation: https://pandas.pydata.org/pandas-docs/stable/user_guide/indexing.html#returning-a-view-versus-a-copy\n",
      "  clustering_data['superficie_industrial_ratio'] = np.where(clustering_data['superficie_km2'] != 0, sup_utiles_agric_km2 / clustering_data['superficie_km2'], 0)\n",
      "C:\\Users\\ana\\AppData\\Local\\Temp\\ipykernel_2604\\2031130272.py:11: SettingWithCopyWarning: \n",
      "A value is trying to be set on a copy of a slice from a DataFrame.\n",
      "Try using .loc[row_indexer,col_indexer] = value instead\n",
      "\n",
      "See the caveats in the documentation: https://pandas.pydata.org/pandas-docs/stable/user_guide/indexing.html#returning-a-view-versus-a-copy\n",
      "  clustering_data[f'empleo_{sector}_ratio'] = np.where(clustering_data[f'ocupados_{sector}_2023'] != 0, clustering_data[f'ocupados_{sector}_2023'] / clustering_data[f'unidades_productivas_{sector}_2023'], 0)\n",
      "C:\\Users\\ana\\AppData\\Local\\Temp\\ipykernel_2604\\2031130272.py:11: SettingWithCopyWarning: \n",
      "A value is trying to be set on a copy of a slice from a DataFrame.\n",
      "Try using .loc[row_indexer,col_indexer] = value instead\n",
      "\n",
      "See the caveats in the documentation: https://pandas.pydata.org/pandas-docs/stable/user_guide/indexing.html#returning-a-view-versus-a-copy\n",
      "  clustering_data[f'empleo_{sector}_ratio'] = np.where(clustering_data[f'ocupados_{sector}_2023'] != 0, clustering_data[f'ocupados_{sector}_2023'] / clustering_data[f'unidades_productivas_{sector}_2023'], 0)\n",
      "C:\\Users\\ana\\AppData\\Local\\Temp\\ipykernel_2604\\2031130272.py:11: SettingWithCopyWarning: \n",
      "A value is trying to be set on a copy of a slice from a DataFrame.\n",
      "Try using .loc[row_indexer,col_indexer] = value instead\n",
      "\n",
      "See the caveats in the documentation: https://pandas.pydata.org/pandas-docs/stable/user_guide/indexing.html#returning-a-view-versus-a-copy\n",
      "  clustering_data[f'empleo_{sector}_ratio'] = np.where(clustering_data[f'ocupados_{sector}_2023'] != 0, clustering_data[f'ocupados_{sector}_2023'] / clustering_data[f'unidades_productivas_{sector}_2023'], 0)\n"
     ]
    }
   ],
   "source": [
    "# Crear las nuevas características\n",
    "sup_utiles_ha = clustering_data['sup_explotaciones_agricolas_total'] - clustering_data['sup_explotaciones_agricolas_huertos_consumo_propio']\n",
    "sup_utiles_agric_km2 = sup_utiles_ha/100\n",
    "clustering_data['superficie_agricola_ratio'] = np.where(clustering_data['superficie_km2'] != 0, sup_utiles_agric_km2 / clustering_data['superficie_km2'], 0)\n",
    "\n",
    "sup_utiles_indust_km2 = clustering_data['sup_total_indust']/1000\n",
    "clustering_data['superficie_industrial_ratio'] = np.where(clustering_data['superficie_km2'] != 0, sup_utiles_agric_km2 / clustering_data['superficie_km2'], 0)\n",
    "\n",
    "# Ratio de ocupados y unidades productivas por sector\n",
    "for sector in ['primario', 'secundario', 'terciario']:\n",
    "    clustering_data[f'empleo_{sector}_ratio'] = np.where(clustering_data[f'ocupados_{sector}_2023'] != 0, clustering_data[f'ocupados_{sector}_2023'] / clustering_data[f'unidades_productivas_{sector}_2023'], 0)\n"
   ]
  },
  {
   "cell_type": "code",
   "execution_count": 16,
   "metadata": {},
   "outputs": [
    {
     "name": "stdout",
     "output_type": "stream",
     "text": [
      "   contratos_primario_temp_2023  contratos_primario_indefinidos_2023  \\\n",
      "0                      5.490196                             8.607843   \n",
      "1                     82.000000                            37.857143   \n",
      "2                     24.611111                            17.500000   \n",
      "\n",
      "   contratos_primario_total_2023  contratos_secundario_temp_2023  \\\n",
      "0                      14.098039                       83.117647   \n",
      "1                     119.857143                     3727.285714   \n",
      "2                      42.111111                      875.777778   \n",
      "\n",
      "   contratos_secundario_indefinidos_2023  contratos_secundario_total_2023  \\\n",
      "0                             106.928105                       190.045752   \n",
      "1                            4018.428571                      7745.714286   \n",
      "2                            1589.388889                      2465.166667   \n",
      "\n",
      "   contratos_terciario_temp_2023  contratos_terciario_indefinidos_2023  \\\n",
      "0                     433.928105                            369.078431   \n",
      "1                   19416.857143                          15414.428571   \n",
      "2                    8360.611111                           7053.333333   \n",
      "\n",
      "   contratos_terciario_total_2023  contratos_porcentaje_indefinidos_2023  ...  \\\n",
      "0                      803.006536                              47.831961  ...   \n",
      "1                    34831.285714                              46.398571  ...   \n",
      "2                    15413.944444                              49.676667  ...   \n",
      "\n",
      "   contratos_total_registrados_2023  ocupados_primario_2023  \\\n",
      "0                       1007.150327               19.627451   \n",
      "1                      42696.857143              223.857143   \n",
      "2                      17921.222222               78.500000   \n",
      "\n",
      "   ocupados_secundario_2023  ocupados_terciario_2023  \\\n",
      "0                558.725490              3163.986928   \n",
      "1              22641.285714            137011.285714   \n",
      "2               7814.722222             64084.666667   \n",
      "\n",
      "   sup_explotaciones_agricolas_total  \\\n",
      "0                        1595.531895   \n",
      "1                        1230.392857   \n",
      "2                        2588.938889   \n",
      "\n",
      "   sup_explotaciones_agricolas_huertos_consumo_propio  sup_total_indust  \\\n",
      "0                                           0.086340         140.706797   \n",
      "1                                           0.055714       17418.204286   \n",
      "2                                           0.076667        2871.077778   \n",
      "\n",
      "   unidades_productivas_primario_2023  unidades_productivas_secundario_2023  \\\n",
      "0                           13.895425                            150.986928   \n",
      "1                           52.714286                           3216.714286   \n",
      "2                           39.500000                           1548.777778   \n",
      "\n",
      "   unidades_productivas_terciario_2023  \n",
      "0                          1046.627451  \n",
      "1                         26370.714286  \n",
      "2                         14727.722222  \n",
      "\n",
      "[3 rows x 21 columns]\n"
     ]
    },
    {
     "name": "stderr",
     "output_type": "stream",
     "text": [
      "c:\\Users\\ana\\AppData\\Local\\Programs\\Python\\Python39\\lib\\site-packages\\sklearn\\cluster\\_kmeans.py:870: FutureWarning: The default value of `n_init` will change from 10 to 'auto' in 1.4. Set the value of `n_init` explicitly to suppress the warning\n",
      "  warnings.warn(\n"
     ]
    }
   ],
   "source": [
    "import pandas as pd\n",
    "import numpy as np\n",
    "from sklearn.cluster import KMeans\n",
    "from sklearn.preprocessing import StandardScaler\n",
    "\n",
    "# Normalizar los datos\n",
    "scaler = StandardScaler()\n",
    "normalized_data = scaler.fit_transform(clustering_data)\n",
    "\n",
    "# Aplicar K-Means clustering\n",
    "kmeans = KMeans(n_clusters=3, random_state=42)\n",
    "kmeans.fit(normalized_data)\n",
    "cluster_labels = kmeans.labels_\n",
    "\n",
    "# Interpretar los resultados\n",
    "centroides = scaler.inverse_transform(kmeans.cluster_centers_)\n",
    "centroides_df = pd.DataFrame(centroides, columns=selected_columns)\n",
    "print(centroides_df)"
   ]
  },
  {
   "cell_type": "code",
   "execution_count": 17,
   "metadata": {},
   "outputs": [
    {
     "name": "stderr",
     "output_type": "stream",
     "text": [
      "C:\\Users\\ana\\AppData\\Local\\Temp\\ipykernel_2604\\3568981363.py:2: SettingWithCopyWarning: \n",
      "A value is trying to be set on a copy of a slice from a DataFrame.\n",
      "Try using .loc[row_indexer,col_indexer] = value instead\n",
      "\n",
      "See the caveats in the documentation: https://pandas.pydata.org/pandas-docs/stable/user_guide/indexing.html#returning-a-view-versus-a-copy\n",
      "  clustering_data['cluster'] = cluster_labels\n"
     ]
    },
    {
     "name": "stdout",
     "output_type": "stream",
     "text": [
      "        contratos_primario_temp_2023                                           \\\n",
      "                               count       mean         std   min   25%   50%   \n",
      "cluster                                                                         \n",
      "0                              153.0   5.490196   13.312103   0.0   0.0   0.0   \n",
      "1                                7.0  82.000000  100.113269  24.0  39.0  48.0   \n",
      "2                               18.0  24.611111   25.795893   0.0   6.5  17.5   \n",
      "\n",
      "                     contratos_primario_indefinidos_2023             ...  \\\n",
      "          75%    max                               count       mean  ...   \n",
      "cluster                                                              ...   \n",
      "0         4.0   85.0                               153.0   8.607843  ...   \n",
      "1        58.5  307.0                                 7.0  37.857143  ...   \n",
      "2        32.5   91.0                                18.0  17.500000  ...   \n",
      "\n",
      "        unidades_productivas_secundario_2023          \\\n",
      "                                         75%     max   \n",
      "cluster                                                \n",
      "0                                      213.0  1160.0   \n",
      "1                                     3633.0  4846.0   \n",
      "2                                     1885.5  3322.0   \n",
      "\n",
      "        unidades_productivas_terciario_2023                             \\\n",
      "                                      count          mean          std   \n",
      "cluster                                                                  \n",
      "0                                     153.0   1046.627451  1442.660134   \n",
      "1                                       7.0  26370.714286  4218.278073   \n",
      "2                                      18.0  14727.722222  7388.966534   \n",
      "\n",
      "                                                        \n",
      "             min       25%      50%       75%      max  \n",
      "cluster                                                 \n",
      "0           11.0    122.00    433.0   1416.00   7587.0  \n",
      "1        17416.0  26382.50  26428.0  29199.00  29588.0  \n",
      "2         5819.0   9123.75  12445.0  18246.25  31017.0  \n",
      "\n",
      "[3 rows x 168 columns]\n",
      "\n",
      "Cluster 0:\n",
      "\n",
      "Cluster 1:\n",
      "\n",
      "Cluster 2:\n"
     ]
    }
   ],
   "source": [
    "# Etiquetar cada fila de datos con la etiqueta del cluster al que pertenece\n",
    "clustering_data['cluster'] = cluster_labels\n",
    "\n",
    "# Agrupar los datos por etiqueta de cluster\n",
    "cluster_groups = clustering_data.groupby('cluster')\n",
    "\n",
    "# Calcular estadísticas descriptivas para cada grupo\n",
    "cluster_stats = cluster_groups[selected_columns].describe()\n",
    "\n",
    "# Imprimir estadísticas descriptivas para cada característica en cada cluster\n",
    "print(cluster_stats)\n",
    "\n",
    "# Interpretar los resultados\n",
    "for cluster_label, cluster_data in cluster_groups:\n",
    "    print(f\"\\nCluster {cluster_label}:\")\n",
    "    # Aquí podríamos interpretar los resultados para determinar qué sector económico predomina en cada cluster\n",
    "    # Podemos considerar, por ejemplo, la proporción de contratos indefinidos y la cantidad de personas ocupadas en cada sector\n"
   ]
  },
  {
   "cell_type": "code",
   "execution_count": null,
   "metadata": {},
   "outputs": [],
   "source": [
    "from sklearn.model_selection import train_test_split\n",
    "from sklearn.linear_model import LogisticRegression\n",
    "from sklearn.metrics import accuracy_score\n",
    "\n",
    "# Seleccionar las características para el modelo de regresión\n",
    "features = ['contratos_primario_temp_2023', 'contratos_primario_indefinidos_2023', \n",
    "            'contratos_secundario_temp_2023', 'contratos_secundario_indefinidos_2023',\n",
    "            'contratos_terciario_temp_2023', 'contratos_terciario_indefinidos_2023']\n",
    "\n",
    "# Seleccionar la variable objetivo\n",
    "target = 'sector_principal'\n",
    "\n",
    "# Dividir los datos en conjuntos de entrenamiento y prueba\n",
    "X = municipios_data[features]\n",
    "y = municipios_data[target]\n",
    "X_train, X_test, y_train, y_test = train_test_split(X, y, test_size=0.2, random_state=42)\n",
    "\n",
    "# Entrenar el modelo de regresión logística\n",
    "model = LogisticRegression(max_iter=1000)\n",
    "model.fit(X_train, y_train)\n",
    "\n",
    "# Evaluar el modelo\n",
    "train_accuracy = accuracy_score(y_train, model.predict(X_train))\n",
    "test_accuracy = accuracy_score(y_test, model.predict(X_test))\n",
    "print(\"Precisión en el conjunto de entrenamiento:\", train_accuracy)\n",
    "print(\"Precisión en el conjunto de prueba:\", test_accuracy)\n",
    "\n",
    "# Predicción del sector principal para cada municipio\n",
    "predictions = model.predict(X)\n",
    "municipios_data['prediccion_sector_principal'] = predictions\n",
    "\n",
    "# Mostrar los primeros municipios con su sector principal predicho\n",
    "print(municipios_data[['Nombre', 'prediccion_sector_principal']].head())\n"
   ]
  }
 ],
 "metadata": {
  "kernelspec": {
   "display_name": "Python 3",
   "language": "python",
   "name": "python3"
  },
  "language_info": {
   "codemirror_mode": {
    "name": "ipython",
    "version": 3
   },
   "file_extension": ".py",
   "mimetype": "text/x-python",
   "name": "python",
   "nbconvert_exporter": "python",
   "pygments_lexer": "ipython3",
   "version": "3.9.0"
  }
 },
 "nbformat": 4,
 "nbformat_minor": 2
}
