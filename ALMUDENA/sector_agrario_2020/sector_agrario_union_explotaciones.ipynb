{
 "cells": [
  {
   "cell_type": "markdown",
   "metadata": {},
   "source": [
    "# Organización del número de explotaciones agrícolas"
   ]
  },
  {
   "cell_type": "markdown",
   "metadata": {},
   "source": [
    "## Limpieza de los datos"
   ]
  },
  {
   "cell_type": "code",
   "execution_count": 1,
   "metadata": {},
   "outputs": [],
   "source": [
    "import os\n",
    "\n",
    "def clean_and_save_to_new_folder(input_folder, output_folder):\n",
    "    # Crear la carpeta de salida si no existe\n",
    "    if not os.path.exists(output_folder):\n",
    "        os.makedirs(output_folder)\n",
    "\n",
    "    # Obtener la lista de archivos CSV en la carpeta de entrada\n",
    "    archivos_csv = [archivo for archivo in os.listdir(input_folder) if archivo.endswith('.csv')]\n",
    "\n",
    "    # Datos excepcionales\n",
    "    unuseful_words = ['agrario', 'Serie;;;2020']\n",
    "    headers = \"Serie;Codigo_municipio;Nombre;2020\\n\"\n",
    "\n",
    "    # Limpiar y guardar los archivos CSV en la carpeta de salida\n",
    "    for archivo in archivos_csv:\n",
    "        archivo_original = os.path.join(input_folder, archivo)\n",
    "        archivo_limpiado = os.path.join(output_folder, archivo)\n",
    "        with open(archivo_original, 'r') as f_input, open(archivo_limpiado, 'w') as f_output:\n",
    "            f_output.write(headers) \n",
    "            delete_next = False\n",
    "            for line in f_input:                    \n",
    "                if not delete_next:\n",
    "                    delete = False\n",
    "                    for word in unuseful_words:\n",
    "                        if word in line:\n",
    "                            delete = True\n",
    "                    if line.strip() == '':\n",
    "                        delete = False\n",
    "                    elif '-' in line:\n",
    "                        line = line.replace('-', '0')\n",
    "                    if not delete:\n",
    "                        f_output.write(line)\n",
    "                    if 'Zarzalejo' in line:\n",
    "                        delete_next = True # Eliminar filas posteriores\n",
    "\n",
    "# Rutas de las carpetas de entrada y salida\n",
    "input_folder = \".\\original_data\"\n",
    "output_folder = \".\\clean_data\"\n",
    "\n",
    "# Limpiar y guardar los archivos CSV en la nueva carpeta\n",
    "clean_and_save_to_new_folder(input_folder, output_folder)\n"
   ]
  },
  {
   "cell_type": "markdown",
   "metadata": {},
   "source": [
    "## Unión de los datos"
   ]
  },
  {
   "cell_type": "code",
   "execution_count": 17,
   "metadata": {},
   "outputs": [],
   "source": [
    "import os\n",
    "import csv\n",
    "\n",
    "def unir_datos(folder_path, output_path):\n",
    "    # Crear un diccionario para almacenar los datos unidos\n",
    "    datos_unidos = {}\n",
    "\n",
    "    # Obtener la lista de archivos en la carpeta\n",
    "    archivos = os.listdir(folder_path)\n",
    "\n",
    "    # Iterar sobre cada archivo en la carpeta\n",
    "    campos_finales = [] # Nombre de los campos\n",
    "    for archivo in archivos:\n",
    "        if archivo.endswith('.csv'):\n",
    "            with open(os.path.join(folder_path, archivo), 'r') as csv_file:\n",
    "                csv_reader = csv.reader(csv_file, delimiter=';')\n",
    "                # Saltar la primera fila que contiene los encabezados\n",
    "                next(csv_reader)\n",
    "                tipo = archivo.split('_')[0][:3]\n",
    "                # Añadir el nombre del archivo\n",
    "                if 'huertos' in archivo:\n",
    "                    campos_finales.append(f'{tipo}_huertos_consumo_propio')\n",
    "                elif 'tierra' in archivo:\n",
    "                    campos_finales.append(f'{tipo}_tierra_pastos')\n",
    "                else:\n",
    "                    campos_finales.append(f'{tipo}_total_num')\n",
    "                \n",
    "                    \n",
    "                # Iterar sobre cada fila en el archivo CSV\n",
    "                for row in csv_reader:\n",
    "                    serie = row[0] if row else \"\"\n",
    "                    codigo_municipio = row[1] if len(row) > 1 else \"\"\n",
    "                    nombre = row[2] if len(row) > 2 else \"\"\n",
    "                    # Verificar si la serie, código de municipio y nombre ya están en el diccionario\n",
    "                    key = (serie, codigo_municipio, nombre)\n",
    "                    if key in datos_unidos:\n",
    "                        # Si ya existe, añadir el campo 4 como un componente nuevo\n",
    "                        datos_unidos[key].append(row[3])\n",
    "                    else:\n",
    "                        # Si no existe, crear una nueva entrada en el diccionario\n",
    "                        datos_unidos[key] = [serie, codigo_municipio, nombre, row[3]]\n",
    "\n",
    "    # Escribir los datos unidos en un nuevo archivo CSV\n",
    "    with open(output_path, 'w', newline='') as csv_file:\n",
    "        csv_writer = csv.writer(csv_file, delimiter=';')\n",
    "        # Escribir el header\n",
    "        csv_writer.writerow(['Serie', 'Codigo_municipio', 'Nombre'] + campos_finales)\n",
    "        # Escribir los datos unidos\n",
    "        for key, values in datos_unidos.items():\n",
    "            csv_writer.writerow(values)\n",
    "\n",
    "# Carpeta donde se encuentran los archivos\n",
    "folder_path = './clean_data'\n",
    "# Ruta del archivo CSV de salida\n",
    "output_path = '../union_final/explotaciones_agrarias.csv'\n",
    "\n",
    "# Llamar a la función para unir los datos\n",
    "unir_datos(folder_path, output_path)\n",
    "\n"
   ]
  }
 ],
 "metadata": {
  "kernelspec": {
   "display_name": "Python 3",
   "language": "python",
   "name": "python3"
  },
  "language_info": {
   "codemirror_mode": {
    "name": "ipython",
    "version": 3
   },
   "file_extension": ".py",
   "mimetype": "text/x-python",
   "name": "python",
   "nbconvert_exporter": "python",
   "pygments_lexer": "ipython3",
   "version": "3.9.0"
  }
 },
 "nbformat": 4,
 "nbformat_minor": 2
}
