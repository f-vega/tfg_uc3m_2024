{
 "cells": [
  {
   "cell_type": "markdown",
   "metadata": {},
   "source": [
    "# Organización del número de explotaciones agrícolas"
   ]
  },
  {
   "cell_type": "markdown",
   "metadata": {},
   "source": [
    "## Limpieza de los datos"
   ]
  },
  {
   "cell_type": "markdown",
   "metadata": {},
   "source": [
    "<b>Objetivo:</b> eliminar las líneas innecesarias, y organizar los encabezados de los documentos. De esta manera podremos unificar todos los datos posteriormente."
   ]
  },
  {
   "cell_type": "code",
   "execution_count": 6,
   "metadata": {},
   "outputs": [],
   "source": [
    "import os\n",
    "\n",
    "def clean_data(input_folder, output_folder):\n",
    "    # Crear la carpeta de salida si no existe\n",
    "    if not os.path.exists(output_folder):\n",
    "        os.makedirs(output_folder)\n",
    "\n",
    "    # Obtener la lista de archivos CSV en la carpeta de entrada\n",
    "    csv_files = [file for file in os.listdir(input_folder) if file.endswith('.csv')]\n",
    "\n",
    "    # Datos excepcionales\n",
    "    unuseful_words = ['agrario', 'Serie;;;2020']\n",
    "    headers = \"Serie;Codigo_municipio;Nombre;2020\\n\"\n",
    "\n",
    "    # Limpiar y guardar los files CSV en la carpeta de salida\n",
    "    for file in csv_files:\n",
    "        original_file = os.path.join(input_folder, file)\n",
    "        clean_file = os.path.join(output_folder, file)\n",
    "        with open(original_file, 'r') as f_input, open(clean_file, 'w') as f_output:\n",
    "            f_output.write(headers) \n",
    "            delete_next = False\n",
    "            for line in f_input:                    \n",
    "                if not delete_next:\n",
    "                    delete = False\n",
    "                    for word in unuseful_words:\n",
    "                        if word in line:\n",
    "                            delete = True\n",
    "                    if line.strip() == '':\n",
    "                        delete = True\n",
    "                    elif '-' in line:\n",
    "                        line = line.replace('-', '0')\n",
    "                    if not delete:\n",
    "                        f_output.write(line)\n",
    "                    if 'Zarzalejo' in line:\n",
    "                        delete_next = True\n",
    "\n",
    "input_folder = \".\\original_data\"\n",
    "output_folder = \".\\clean_data\"\n",
    "\n",
    "clean_data(input_folder, output_folder)\n"
   ]
  },
  {
   "cell_type": "markdown",
   "metadata": {},
   "source": [
    "## Unión de los datos"
   ]
  },
  {
   "cell_type": "markdown",
   "metadata": {},
   "source": [
    "<b>Objetivo:</b> unir todos los archivos de la carpeta en uno solo, con sus encabezados correspondientes. Guardar el <i>.csv</i> resultante en la carpeta <i>union_final</i> para poder añadir los datos al archivo final."
   ]
  },
  {
   "cell_type": "code",
   "execution_count": 8,
   "metadata": {},
   "outputs": [],
   "source": [
    "import os, csv\n",
    "\n",
    "def join_data(folder_path, output_path):\n",
    "    # Crear un diccionario para almacenar los datos unidos\n",
    "    join_data = {}\n",
    "\n",
    "    csv_files = os.listdir(folder_path)\n",
    "\n",
    "    # Iterar sobre cada archivo en la carpeta\n",
    "    final_fields = []\n",
    "    for file in csv_files:\n",
    "        if file.endswith('.csv'):\n",
    "            with open(os.path.join(folder_path, file), 'r') as csv_file:\n",
    "                csv_reader = csv.reader(csv_file, delimiter=';')\n",
    "                next(csv_reader)\n",
    "                type = file.split('_')[0] + '_explotaciones_agricolas'\n",
    "                if 'huertos' in file:\n",
    "                    final_fields.append(f'{type}_huertos_consumo_propio')\n",
    "                elif 'tierra' in file:\n",
    "                    final_fields.append(f'{type}_tierra_pastos')\n",
    "                else:\n",
    "                    final_fields.append(f'{type}_total')\n",
    "                                \n",
    "                # Iterar sobre cada fila en el archivo CSV\n",
    "                for row in csv_reader:\n",
    "                    serie = row[0] if row else \"\"\n",
    "                    codigo_municipio = row[1] if len(row) > 1 else \"\"\n",
    "                    nombre = row[2] if len(row) > 2 else \"\"\n",
    "\n",
    "                    # Verificar si la serie, código de municipio y nombre ya están en el diccionario\n",
    "                    key = (serie, codigo_municipio, nombre)\n",
    "                    if key in join_data:\n",
    "                        join_data[key].append(row[3])\n",
    "                    else:\n",
    "                        join_data[key] = [serie, codigo_municipio, nombre, row[3]]\n",
    "\n",
    "    # Escribir los datos unidos en un nuevo archivo CSV\n",
    "    with open(output_path, 'w', newline='') as csv_file:\n",
    "        csv_writer = csv.writer(csv_file, delimiter=';')\n",
    "        # Escribir el header\n",
    "        csv_writer.writerow(['Serie', 'Codigo_municipio', 'Nombre'] + final_fields)\n",
    "        # Escribir los datos unidos\n",
    "        for key, values in join_data.items():\n",
    "            csv_writer.writerow(values)\n",
    "\n",
    "folder_path = './clean_data'\n",
    "output_path = '../union_final/explotaciones_agrarias.csv'\n",
    "\n",
    "join_data(folder_path, output_path)\n",
    "\n"
   ]
  }
 ],
 "metadata": {
  "kernelspec": {
   "display_name": "Python 3",
   "language": "python",
   "name": "python3"
  },
  "language_info": {
   "codemirror_mode": {
    "name": "ipython",
    "version": 3
   },
   "file_extension": ".py",
   "mimetype": "text/x-python",
   "name": "python",
   "nbconvert_exporter": "python",
   "pygments_lexer": "ipython3",
   "version": "3.9.0"
  }
 },
 "nbformat": 4,
 "nbformat_minor": 2
}
