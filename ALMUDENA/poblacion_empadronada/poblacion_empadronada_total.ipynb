{
 "cells": [
  {
   "cell_type": "markdown",
   "metadata": {},
   "source": [
    "# Organización de unidades productivas"
   ]
  },
  {
   "cell_type": "markdown",
   "metadata": {},
   "source": [
    "## Limpieza de los datos\n",
    "Eliminar filas innecesarias"
   ]
  },
  {
   "cell_type": "code",
   "execution_count": 88,
   "metadata": {},
   "outputs": [],
   "source": [
    "import os\n",
    "\n",
    "def clean_and_save_to_new_folder(input_folder, output_folder):\n",
    "    # Crear la carpeta de salida si no existe\n",
    "    if not os.path.exists(output_folder):\n",
    "        os.makedirs(output_folder)\n",
    "\n",
    "    # Obtener la lista de archivos CSV en la carpeta de entrada\n",
    "    archivos_csv = [archivo for archivo in os.listdir(input_folder) if archivo.endswith('.csv')]\n",
    "\n",
    "    # Datos excepcionales\n",
    "    unuseful_words = ['empadronada.']        \n",
    "    headers = \"Serie;Codigo_municipio;Nombre;2020;2021;2022;2023\\n\"\n",
    "\n",
    "    # Limpiar y guardar los archivos CSV en la carpeta de salida\n",
    "    for archivo in archivos_csv:\n",
    "        archivo_original = os.path.join(input_folder, archivo)\n",
    "        archivo_limpiado = os.path.join(output_folder, archivo)\n",
    "        with open(archivo_original, 'r') as f_input, open(archivo_limpiado, 'w') as f_output:\n",
    "            f_output.write(headers) \n",
    "            delete_next = False\n",
    "            for line in f_input:                    \n",
    "                if not delete_next:\n",
    "                    delete = False\n",
    "                    for word in unuseful_words:\n",
    "                        if word in line:\n",
    "                            delete = True\n",
    "                    if line.strip() == '':\n",
    "                        delete = False\n",
    "                    if 'Serie' in line:\n",
    "                            delete = True\n",
    "                    if not delete:\n",
    "                        fields = line.strip().split(';')\n",
    "                        f_output.write(';'.join(fields[:3] + fields[-5:]) + '\\n')\n",
    "                    if 'Zarzalejo' in line:\n",
    "                        delete_next = True # Eliminar filas posteriores\n",
    "\n",
    "# Rutas de las carpetas de entrada y salida\n",
    "input_folder = \".\\original_data\"\n",
    "output_folder = \".\\clean_data\"\n",
    "\n",
    "# Limpiar y guardar los archivos CSV en la nueva carpeta\n",
    "clean_and_save_to_new_folder(input_folder, output_folder)\n"
   ]
  },
  {
   "cell_type": "markdown",
   "metadata": {},
   "source": [
    "## Unión de datos por edad"
   ]
  },
  {
   "cell_type": "code",
   "execution_count": 89,
   "metadata": {},
   "outputs": [
    {
     "name": "stdout",
     "output_type": "stream",
     "text": [
      "['0a4_2020', '0a4_2021', '0a4_2022', '0a4_2023', '5a9_2020', '5a9_2021', '5a9_2022', '5a9_2023', '10a14_2020', '10a14_2021', '10a14_2022', '10a14_2023', '15a19_2020', '15a19_2021', '15a19_2022', '15a19_2023', '20a24_2020', '20a24_2021', '20a24_2022', '20a24_2023', '25a29_2020', '25a29_2021', '25a29_2022', '25a29_2023', '30a34_2020', '30a34_2021', '30a34_2022', '30a34_2023', '35a39_2020', '35a39_2021', '35a39_2022', '35a39_2023', '40a44_2020', '40a44_2021', '40a44_2022', '40a44_2023', '45a49_2020', '45a49_2021', '45a49_2022', '45a49_2023', '50a54_2020', '50a54_2021', '50a54_2022', '50a54_2023', '55a59_2020', '55a59_2021', '55a59_2022', '55a59_2023', '60a64_2020', '60a64_2021', '60a64_2022', '60a64_2023', '65a69_2020', '65a69_2021', '65a69_2022', '65a69_2023', '70a74_2020', '70a74_2021', '70a74_2022', '70a74_2023', '75a79_2020', '75a79_2021', '75a79_2022', '75a79_2023', '80a84_2020', '80a84_2021', '80a84_2022', '80a84_2023', '85a89_2020', '85a89_2021', '85a89_2022', '85a89_2023', '90a94_2020', '90a94_2021', '90a94_2022', '90a94_2023', '95a99_2020', '95a99_2021', '95a99_2022', '95a99_2023', '100_2020', '100_2021', '100_2022', '100_2023', 'total_2020', 'total_2021', 'total_2022', 'total_2023']\n"
     ]
    }
   ],
   "source": [
    "import os\n",
    "import csv\n",
    "import re\n",
    "\n",
    "def sumar_csvs(folder_path, output_path):\n",
    "    # Crear un diccionario para almacenar los datos sumados\n",
    "    datos_sumados = {}\n",
    "\n",
    "    # Obtener la lista de archivos en la carpeta (ordenado por edad)\n",
    "    archivos = sorted(os.listdir(folder_path), key=lambda x: int(re.search(r'\\d+', x).group()) if re.search(r'\\d+', x) else float('inf'))\n",
    "    # Iterar sobre cada archivo en la carpeta\n",
    "    for archivo in archivos:\n",
    "        if archivo.endswith('.csv'):\n",
    "            with open(os.path.join(folder_path, archivo), 'r') as csv_file:\n",
    "                csv_reader = csv.reader(csv_file, delimiter=';')\n",
    "                # Saltar la primera fila que contiene los encabezados\n",
    "                next(csv_reader)\n",
    "\n",
    "                # Obtener la extensión del nombre del archivo (por ejemplo, \"0a4\" o \"5a9\")\n",
    "                intervalo_edad = archivo.split('_')[-1].split('.')[0]\n",
    "                # Iterar sobre cada fila en el archivo CSV\n",
    "                for row in csv_reader:\n",
    "                    serie = row[0] if row else \"\"\n",
    "                    codigo_municipio = row[1] if len(row) > 1 else \"\"\n",
    "                    nombre = row[2] if len(row) > 2 else \"\"\n",
    "                    \n",
    "                    # Verificar si la serie, código de municipio y nombre ya están en el diccionario\n",
    "                    if (serie, codigo_municipio, nombre) not in datos_sumados:\n",
    "                        datos_sumados[(serie, codigo_municipio, nombre)] = {}\n",
    "\n",
    "                    # Obtener los datos de cada año para el intervalo de edad actual\n",
    "                    for i, valor in enumerate(row[3:7], start=2020):\n",
    "                        clave = f\"{intervalo_edad}_{i}\"\n",
    "                        # Agregar los datos al diccionario enlazado\n",
    "                        datos_sumados[(serie, codigo_municipio, nombre)][clave] = int(valor) if valor else 0\n",
    "\n",
    "    # Escribir los datos sumados en un nuevo archivo CSV\n",
    "    with open(output_path, 'w', newline='') as csv_file:\n",
    "        csv_writer = csv.writer(csv_file, delimiter=';')\n",
    "        # Escribir los encabezados\n",
    "        claves_totales = []\n",
    "\n",
    "        for key, values in datos_sumados.items():\n",
    "            if claves_totales == []:\n",
    "                claves_totales.extend(values.keys())\n",
    "        claves_totales = [str(clave) for clave in claves_totales]\n",
    "        print(claves_totales)\n",
    "\n",
    "        # Reemplazar '100' con 'mayores_100' si está presente en las claves totales\n",
    "        claves_totales = [clave.replace('100', 'mayores_100') for clave in claves_totales]\n",
    "\n",
    "        # Escribir los encabezados en el archivo CSV\n",
    "        csv_writer.writerow(['Serie', 'Codigo_municipio', 'Nombre', *claves_totales])\n",
    "\n",
    "            # Escribir los datos sumados\n",
    "        for key, values in datos_sumados.items():\n",
    "            # Crear una lista de valores para cada clave en el orden de las claves totales\n",
    "            fila = [key[0], key[1], key[2]]\n",
    "            for clave in claves_totales:\n",
    "                fila.append(values.get(clave, 0))\n",
    "            csv_writer.writerow(fila)\n",
    "\n",
    "\n",
    "\n",
    "# Ruta de la carpeta que contiene los archivos CSV\n",
    "folder_path = './clean_data'\n",
    "# Ruta del archivo CSV de salida\n",
    "output_path = './suma_por_edad/suma_por_edad.csv'\n",
    "# Llamar a la función para procesar los archivos CSV\n",
    "sumar_csvs(folder_path, output_path)"
   ]
  }
 ],
 "metadata": {
  "kernelspec": {
   "display_name": "Python 3",
   "language": "python",
   "name": "python3"
  },
  "language_info": {
   "codemirror_mode": {
    "name": "ipython",
    "version": 3
   },
   "file_extension": ".py",
   "mimetype": "text/x-python",
   "name": "python",
   "nbconvert_exporter": "python",
   "pygments_lexer": "ipython3",
   "version": "3.9.0"
  }
 },
 "nbformat": 4,
 "nbformat_minor": 2
}
