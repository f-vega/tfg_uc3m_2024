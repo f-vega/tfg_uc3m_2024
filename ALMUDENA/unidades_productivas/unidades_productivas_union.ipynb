{
 "cells": [
  {
   "cell_type": "markdown",
   "metadata": {},
   "source": [
    "# Organización de unidades productivas"
   ]
  },
  {
   "cell_type": "markdown",
   "metadata": {},
   "source": [
    "## Limpieza de los datos"
   ]
  },
  {
   "cell_type": "code",
   "execution_count": 3,
   "metadata": {},
   "outputs": [],
   "source": [
    "import os\n",
    "\n",
    "def clean_and_save_to_new_folder(input_folder, output_folder):\n",
    "    # Crear la carpeta de salida si no existe\n",
    "    if not os.path.exists(output_folder):\n",
    "        os.makedirs(output_folder)\n",
    "\n",
    "    # Obtener la lista de archivos CSV en la carpeta de entrada\n",
    "    archivos_csv = [archivo for archivo in os.listdir(input_folder) if archivo.endswith('.csv')]\n",
    "\n",
    "    # Datos excepcionales\n",
    "    unuseful_words = ['Serie;;;2015;2016;2017;2018;2019;2020;2021;2022;2023(A)', 'empresarial']\n",
    "    headers = \"Serie;Codigo_municipio;Nombre;2015;2016;2017;2018;2019;2020;2021;2022;2023\\n\"\n",
    "\n",
    "    # Limpiar y guardar los archivos CSV en la carpeta de salida\n",
    "    for archivo in archivos_csv:\n",
    "        archivo_original = os.path.join(input_folder, archivo)\n",
    "        archivo_limpiado = os.path.join(output_folder, archivo)\n",
    "        with open(archivo_original, 'r') as f_input, open(archivo_limpiado, 'w') as f_output:\n",
    "            f_output.write(headers) \n",
    "            delete_next = False\n",
    "            for line in f_input:                    \n",
    "                if not delete_next:\n",
    "                    delete = False\n",
    "                    for word in unuseful_words:\n",
    "                        if word in line or line.strip() == ';':\n",
    "                            delete = True\n",
    "                    if line.strip() == '':\n",
    "                        delete = False\n",
    "                    elif '(A) Avance' in line:\n",
    "                        line = line.replace('(A) Avance ;', '')\n",
    "                    if not delete:\n",
    "                        f_output.write(line)\n",
    "                    if 'Zarzalejo' in line:\n",
    "                        delete_next = True # Eliminar filas posteriores\n",
    "\n",
    "# Rutas de las carpetas de entrada y salida\n",
    "input_folder = \".\\original_data\"\n",
    "output_folder = \".\\clean_data\"\n",
    "\n",
    "# Limpiar y guardar los archivos CSV en la nueva carpeta\n",
    "clean_and_save_to_new_folder(input_folder, output_folder)\n"
   ]
  },
  {
   "cell_type": "markdown",
   "metadata": {},
   "source": [
    "## División por sectores"
   ]
  },
  {
   "cell_type": "code",
   "execution_count": 4,
   "metadata": {},
   "outputs": [],
   "source": [
    "import os\n",
    "\n",
    "def dividir_por_sector(input_folder, output_folder):\n",
    "    for sector in ['primario', 'secundario', 'terciario']:\n",
    "        sector_folder = os.path.join(output_folder, sector)\n",
    "        if not os.path.exists(sector_folder):\n",
    "            os.makedirs(sector_folder)\n",
    "\n",
    "    # Obtener la lista de archivos CSV en la carpeta de entrada\n",
    "    archivos_csv = [archivo for archivo in os.listdir(input_folder) if archivo.endswith('.csv')]\n",
    "\n",
    "    # Mapear cada archivo a su sector correspondiente\n",
    "    for archivo in archivos_csv:\n",
    "        if 'agricultura' in archivo or 'ganaderia' in archivo or 'pesca' in archivo:\n",
    "            sector = 'primario'\n",
    "        elif 'industria' in archivo or 'construccion' in archivo or 'electricidad' in archivo or 'agua' in archivo or 'metalurgia' in archivo:\n",
    "            sector = 'secundario'\n",
    "        else:\n",
    "            sector = 'terciario'\n",
    "\n",
    "        # Mover el archivo a la carpeta correspondiente\n",
    "        archivo_path = os.path.join(input_folder, archivo)\n",
    "        nuevo_path = os.path.join(output_folder, sector, archivo)\n",
    "        os.replace(archivo_path, nuevo_path)\n",
    "\n",
    "# Rutas de las carpetas de entrada y salida\n",
    "input_folder = \"./clean_data\"\n",
    "output_folder = \"./dividido_por_sector\"\n",
    "\n",
    "dividir_por_sector(input_folder, output_folder)"
   ]
  },
  {
   "cell_type": "markdown",
   "metadata": {},
   "source": [
    "## Suma de los datos por sector"
   ]
  },
  {
   "cell_type": "code",
   "execution_count": 5,
   "metadata": {},
   "outputs": [],
   "source": [
    "import os\n",
    "import csv\n",
    "\n",
    "# Función para leer y sumar los datos de los CSVs\n",
    "def sumar_csvs(folder_path, output_path):\n",
    "    # Crear un diccionario para almacenar los datos sumados\n",
    "    datos_sumados = {}\n",
    "\n",
    "    # Obtener la lista de archivos en la carpeta\n",
    "    archivos = os.listdir(folder_path)\n",
    "\n",
    "    # Iterar sobre cada archivo en la carpeta\n",
    "    for archivo in archivos:\n",
    "        if archivo.endswith('.csv'):\n",
    "            with open(os.path.join(folder_path, archivo), 'r') as csv_file:\n",
    "                csv_reader = csv.reader(csv_file, delimiter=';')\n",
    "                # Saltar la primera fila que contiene los encabezados\n",
    "                next(csv_reader)\n",
    "\n",
    "                # Iterar sobre cada fila en el archivo CSV\n",
    "                for row in csv_reader:\n",
    "                    serie = row[0] if row else \"\"\n",
    "                    codigo_municipio = row[1] if len(row) > 1 else \"\"\n",
    "                    nombre = row[2] if len(row) > 2 else \"\"\n",
    "                                        # Verificar si ya existe una entrada para esta serie y código de municipio\n",
    "                    key = (serie, codigo_municipio, nombre)\n",
    "                    if key in datos_sumados:\n",
    "                        # Sumar los valores de cada año\n",
    "                        for i in range(3, len(row)):\n",
    "                            datos_sumados[key][i] += int(row[i]) if row[i] else 0\n",
    "                    else:\n",
    "                        # Si no existe, crear una nueva entrada en el diccionario\n",
    "                        datos_sumados[key] = [serie, codigo_municipio, nombre] + [int(x) if x else 0 for x in row[3:]]\n",
    "\n",
    "    # Escribir los datos sumados en un nuevo archivo CSV\n",
    "    with open(output_path, 'w', newline='') as csv_file:\n",
    "        csv_writer = csv.writer(csv_file, delimiter=';')\n",
    "        # Escribir los encabezados\n",
    "        csv_writer.writerow(['Serie', 'Codigo_municipio', 'Nombre', '2020', '2021', '2022', '2023'])\n",
    "        # Escribir los datos sumados\n",
    "        for key, values in datos_sumados.items():\n",
    "            csv_writer.writerow([key[0], key[1], key[2],  *values[8:12]])\n",
    "\n",
    "# Separar por sectores\n",
    "sumar_csvs('./dividido_por_sector/primario', './suma_unidades_productivas_por_sector/suma_primario.csv')\n",
    "sumar_csvs('./dividido_por_sector/secundario', './suma_unidades_productivas_por_sector/suma_secundario.csv')\n",
    "sumar_csvs('./dividido_por_sector/terciario', './suma_unidades_productivas_por_sector/suma_terciario.csv')"
   ]
  }
 ],
 "metadata": {
  "kernelspec": {
   "display_name": "Python 3",
   "language": "python",
   "name": "python3"
  },
  "language_info": {
   "codemirror_mode": {
    "name": "ipython",
    "version": 3
   },
   "file_extension": ".py",
   "mimetype": "text/x-python",
   "name": "python",
   "nbconvert_exporter": "python",
   "pygments_lexer": "ipython3",
   "version": "3.9.0"
  }
 },
 "nbformat": 4,
 "nbformat_minor": 2
}
