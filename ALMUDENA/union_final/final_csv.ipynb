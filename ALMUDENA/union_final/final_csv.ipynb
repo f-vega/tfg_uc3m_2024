{
 "cells": [
  {
   "cell_type": "markdown",
   "metadata": {},
   "source": [
    "# Unión de todos los datos en un mismo archivo <i>csv</i>"
   ]
  },
  {
   "cell_type": "code",
   "execution_count": 7,
   "metadata": {},
   "outputs": [],
   "source": [
    "import os\n",
    "import csv\n",
    "import re\n",
    "\n",
    "def sumar_csvs(folder_path='.', output_file='./final_csv.csv'):\n",
    "    # Crear un diccionario para almacenar los datos sumados\n",
    "    datos_sumados = {}\n",
    "\n",
    "    # Obtener la lista de archivos en la carpeta (ordenado por edad)\n",
    "    archivos_csv = [archivo for archivo in os.listdir(folder_path) if archivo.endswith('.csv')]\n",
    "    # Iterar sobre cada archivo en la carpeta\n",
    "    for archivo in archivos_csv:\n",
    "        if archivo.endswith('.csv'):\n",
    "            with open(os.path.join(folder_path, archivo), 'r') as csv_file:\n",
    "                csv_reader = csv.reader(csv_file, delimiter=';')\n",
    "                headers = next(csv_reader)\n",
    "\n",
    "                # Iterar sobre cada fila en el archivo CSV\n",
    "                for row in csv_reader:\n",
    "                    serie = row[0] if row else \"\"\n",
    "                    codigo_municipio = row[1] if len(row) > 1 else \"\"\n",
    "                    nombre = row[2].replace('0', '-') if len(row) > 2 else \"\"\n",
    "\n",
    "\n",
    "\n",
    "                    # Verificar si la serie, código de municipio y nombre ya están en el diccionario\n",
    "                    if (serie, codigo_municipio, nombre) not in datos_sumados:\n",
    "                        datos_sumados[(serie, codigo_municipio, nombre)] = {}\n",
    "\n",
    "                    # Obtener los datos de cada año para el intervalo de edad actual\n",
    "                    for header, valor in zip(headers[3:], row[3:]):\n",
    "                        # Agregar los datos al diccionario enlazado\n",
    "                        datos_sumados[(serie, codigo_municipio, nombre)][header] = valor if valor else ''\n",
    "\n",
    "    # Escribir los datos sumados en un nuevo archivo CSV\n",
    "    with open(output_file, 'w', newline='') as csv_file:\n",
    "        csv_writer = csv.writer(csv_file, delimiter=';')\n",
    "        # Escribir los encabezados\n",
    "        claves_totales = []\n",
    "\n",
    "        for key, values in datos_sumados.items():\n",
    "            if claves_totales == []:\n",
    "                claves_totales.extend(values.keys())\n",
    "        claves_totales = [str(clave) for clave in claves_totales]\n",
    "\n",
    "        # Escribir los encabezados en el archivo CSV\n",
    "        csv_writer.writerow(['Serie', 'Codigo_municipio', 'Nombre', *claves_totales])\n",
    "\n",
    "            # Escribir los datos sumados\n",
    "        for key, values in datos_sumados.items():\n",
    "            # Crear una lista de valores para cada clave en el orden de las claves totales\n",
    "            fila = [key[0], key[1], key[2]]\n",
    "            for clave in claves_totales:\n",
    "                fila.append(values.get(clave).replace('.', ','))\n",
    "            csv_writer.writerow(fila)\n",
    "\n",
    "\n",
    "# Llamar a la función para procesar los archivos CSV\n",
    "sumar_csvs()"
   ]
  }
 ],
 "metadata": {
  "kernelspec": {
   "display_name": "Python 3",
   "language": "python",
   "name": "python3"
  },
  "language_info": {
   "codemirror_mode": {
    "name": "ipython",
    "version": 3
   },
   "file_extension": ".py",
   "mimetype": "text/x-python",
   "name": "python",
   "nbconvert_exporter": "python",
   "pygments_lexer": "ipython3",
   "version": "3.9.0"
  }
 },
 "nbformat": 4,
 "nbformat_minor": 2
}
