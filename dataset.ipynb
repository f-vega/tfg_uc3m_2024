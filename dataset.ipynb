{
 "cells": [
  {
   "cell_type": "code",
   "execution_count": 9,
   "metadata": {},
   "outputs": [
    {
     "name": "stderr",
     "output_type": "stream",
     "text": [
      "C:\\Users\\ana\\AppData\\Local\\Temp\\ipykernel_14272\\3211562946.py:3: UserWarning: Boolean Series key will be reindexed to match DataFrame index.\n",
      "  data_zzee = data_2023[data_2023['Nombre'] != 'Madrid'][data_2023['Serie'] != 'Municipios']\n"
     ]
    }
   ],
   "source": [
    "import pandas as pd\n",
    "data_2023 = pd.read_csv('./datos_2023.csv', delimiter=';', encoding='latin-1', dtype={'superficie_km2': float, 'Codigo_municipio': str})\n",
    "data_zzee = data_2023[data_2023['Nombre'] != 'Madrid'][data_2023['Serie'] != 'Municipios']\n",
    "data_zzee.to_csv('dataset_zonas_estadisticas.csv', encoding='latin-1', sep=';', index=False)\n",
    "# Unión cluster demográfico\n",
    "cluster_zzee_dp = pd.read_csv('./clustering_zzee_dp/clustering_zzee_dp.csv', delimiter=';', encoding='latin-1')\n",
    "cluster_zzee_dp = cluster_zzee_dp.rename(columns={'Cluster estadistico': 'cluster_demografico'})\n",
    "cluster_zzee_dp = cluster_zzee_dp[['Nombre', 'cluster_demografico']]\n",
    "\n",
    "data = pd.merge(data_2023, cluster_zzee_dp, on=['Nombre'], how='inner')\n",
    "data = data.loc[:, ~data.columns.duplicated()]\n",
    "\n",
    "# Unión cluster sectario\n",
    "cluster_sector = pd.read_csv('./cluster_sector/cluster_sector.csv', delimiter=';', encoding='latin-1')\n",
    "cluster_sector = cluster_sector.rename(columns={'sector': 'cluster_sector'})\n",
    "cluster_sector = cluster_sector[['Nombre', 'cluster_sector']]\n",
    "data = pd.merge(data, cluster_sector, on=['Nombre'], how='inner')\n",
    "data = data.loc[:, ~data.columns.duplicated()]\n",
    "\n",
    "data.to_csv('dataset_municipios.csv', sep=';', encoding='latin-1', index=False)"
   ]
  },
  {
   "cell_type": "code",
   "execution_count": 10,
   "metadata": {},
   "outputs": [
    {
     "name": "stderr",
     "output_type": "stream",
     "text": [
      "C:\\Users\\ana\\AppData\\Local\\Temp\\ipykernel_14272\\2340752359.py:3: UserWarning: Boolean Series key will be reindexed to match DataFrame index.\n",
      "  data_2023 = data_2023[data_2023['Nombre'] != 'Madrid'][data_2023['Nombre'] != 'Municipio de Madrid ']\n"
     ]
    }
   ],
   "source": [
    "import pandas as pd\n",
    "data_2023 = pd.read_csv('./datos_2023.csv', delimiter=';', encoding='latin-1', dtype={'superficie_km2': float, 'Codigo_municipio': str})\n",
    "data_2023 = data_2023[data_2023['Nombre'] != 'Madrid'][data_2023['Nombre'] != 'Municipio de Madrid ']\n",
    "\n",
    "\n",
    "# Unión cluster demográfico\n",
    "cluster_zzee_dp = pd.read_csv('./clustering_zzee_dp/clustering_zzee_dp.csv', delimiter=';', encoding='latin-1')\n",
    "cluster_zzee_dp = cluster_zzee_dp.rename(columns={'Cluster estadistico': 'cluster_demografico'})\n",
    "cluster_zzee_dp = cluster_zzee_dp[['Nombre', 'cluster_demografico']]\n",
    "\n",
    "data = pd.merge(data_2023, cluster_zzee_dp, on=['Nombre'], how='outer')\n",
    "data = data.loc[:, ~data.columns.duplicated()]\n",
    "\n",
    "# Unión cluster sectario\n",
    "cluster_sector = pd.read_csv('./cluster_sector/cluster_sector.csv', delimiter=';', encoding='latin-1')\n",
    "cluster_sector = cluster_sector.rename(columns={'sector': 'cluster_sector'})\n",
    "cluster_sector = cluster_sector[['Nombre', 'cluster_sector']]\n",
    "data = pd.merge(data, cluster_sector, on=['Nombre'], how='outer')\n",
    "data = data.loc[:, ~data.columns.duplicated()]\n",
    "\n",
    "# Concatenar los DataFrames en el orden deseado\n",
    "data = data.sort_values(by='Serie', ascending=False)\n",
    "\n",
    "# Supongamos que tu DataFrame se llama data\n",
    "grupos_edad_activos = ['poblacion_{}a{}'.format(i, i+4) for i in range(15, 65, 5)]\n",
    "data['poblacion_activa'] = data[grupos_edad_activos].sum(axis=1)\n",
    "\n",
    "# Ratio de contratos por población censada\n",
    "data['ratio_contratos_por_poblacion'] = round(data['contratos_total_registrados'] / data['poblacion_activa'], 3)\n",
    "\n",
    "# Ratio de contratos por unidad productiva\n",
    "data['ratio_contratos_por_up'] = round(data['contratos_total_registrados'] / data['unidades_productivas_total'], 3)\n",
    "\n",
    "# Ratio de paro registrado por población\n",
    "data['ratio_paro_por_poblacion_activa'] = round(data['paro_registrado_total'] / data['poblacion_activa'], 3)\n",
    "\n",
    "# Ratio de paro registrado por contrato\n",
    "data['ratio_paro_por_contrato'] = round(data['paro_registrado_total'] / data['contratos_total_registrados'], 3)\n",
    "\n",
    "# Ratio de contratos por sector de actividad\n",
    "data['ratio_contratos_primario'] = round(data['contratos_primario_total'] / data['poblacion_activa'], 3)\n",
    "data['ratio_contratos_secundario'] = round(data['contratos_secundario_total'] / data['poblacion_activa'], 3)\n",
    "data['ratio_contratos_terciario'] = round(data['contratos_terciario_total'] / data['poblacion_activa'], 3)\n",
    "\n",
    "# Ratio de contratos y paro por grupo de edad\n",
    "for edad in grupos_edad_activos:\n",
    "    data[f'ratio_contratos_por_{edad}'] = round(data['contratos_total_registrados'] / data[edad], 3)\n",
    "    data[f'ratio_paro_por_{edad}'] = round(data['paro_registrado_total'] / data[edad], 3)\n",
    "\n",
    "# Ratio de unidades productivas por pirámide poblacional\n",
    "data['ratio_up_por_poblacion_activa'] = round(data['unidades_productivas_total'] / data['poblacion_activa'], 3)\n",
    "\n",
    "# Si deseas guardar el DataFrame con los nuevos ratios\n",
    "data.to_csv('dataset.csv', index=False, encoding='iso-8859-1', sep=';')"
   ]
  }
 ],
 "metadata": {
  "kernelspec": {
   "display_name": "Python 3",
   "language": "python",
   "name": "python3"
  },
  "language_info": {
   "codemirror_mode": {
    "name": "ipython",
    "version": 3
   },
   "file_extension": ".py",
   "mimetype": "text/x-python",
   "name": "python",
   "nbconvert_exporter": "python",
   "pygments_lexer": "ipython3",
   "version": "3.9.0"
  }
 },
 "nbformat": 4,
 "nbformat_minor": 2
}
