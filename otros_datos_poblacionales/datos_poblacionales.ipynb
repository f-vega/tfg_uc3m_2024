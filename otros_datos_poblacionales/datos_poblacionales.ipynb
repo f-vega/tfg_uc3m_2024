{
 "cells": [
  {
   "cell_type": "markdown",
   "metadata": {},
   "source": [
    "# Organización de otros datos poblacionales"
   ]
  },
  {
   "cell_type": "markdown",
   "metadata": {},
   "source": [
    "## Limpieza de los datos"
   ]
  },
  {
   "cell_type": "markdown",
   "metadata": {},
   "source": [
    "<b>Objetivo:</b> eliminar las líneas innecesarias, y organizar los encabezados de los documentos. De esta manera podremos unificar todos los datos posteriormente."
   ]
  },
  {
   "cell_type": "code",
   "execution_count": 1,
   "metadata": {},
   "outputs": [],
   "source": [
    "import os\n",
    "\n",
    "def clean_data(input_folder, output_folder):\n",
    "    # Crear la carpeta de salida si no existe\n",
    "    if not os.path.exists(output_folder):\n",
    "        os.makedirs(output_folder)\n",
    "\n",
    "    # Obtener la lista de archivos CSV en la carpeta de entrada\n",
    "    csv_files = [archivo for archivo in os.listdir(input_folder) if archivo.endswith('.csv')]\n",
    "\n",
    "    # Datos excepcionales\n",
    "    unuseful_words = ['Censo', 'datos', 'Serie;;;']\n",
    "    headers = f\"Serie;Codigo_municipio;Nombre;2022;2023\\n\"\n",
    "\n",
    "    # Limpiar y guardar los archivos CSV en la carpeta de salida\n",
    "    for file in csv_files:\n",
    "        original_file = os.path.join(input_folder, file)\n",
    "        clean_file = os.path.join(output_folder, file)\n",
    "        with open(original_file, 'r') as f_input, open(clean_file, 'w') as f_output:\n",
    "            f_output.write(headers)\n",
    "            delete_next = False\n",
    "            for line in f_input:                    \n",
    "                if not delete_next:\n",
    "                    delete = False\n",
    "                    for word in unuseful_words:\n",
    "                        if word in line:\n",
    "                            delete = True\n",
    "                    if line.strip() == '':\n",
    "                        delete = False\n",
    "                    if not delete:\n",
    "                        fields = line.strip().split(';')\n",
    "                        f_output.write(';'.join(fields[:3] + fields[-3:]) + '\\n')\n",
    "\n",
    "                    # Eliminar líneas posteriores al último municipio\n",
    "                    if 'Zarzalejo' in line:\n",
    "                        delete_next = True\n",
    "\n",
    "\n",
    "clean_data('./original_data', './clean_data')"
   ]
  },
  {
   "cell_type": "markdown",
   "metadata": {},
   "source": [
    "## Densidad de población 2020"
   ]
  },
  {
   "cell_type": "code",
   "execution_count": 1,
   "metadata": {},
   "outputs": [],
   "source": [
    "import os\n",
    "\n",
    "def clean_data(input_file, output_file):\n",
    "\n",
    "    # Datos excepcionales\n",
    "    unuseful_words = ['Censo', 'datos', 'Serie;;;']\n",
    "    headers = f\"Serie;Codigo_municipio;Nombre;densidad_poblacion\\n\"\n",
    "\n",
    "    with open(input_file, 'r') as f_input, open(output_file, 'w') as f_output:\n",
    "        f_output.write(headers)\n",
    "        delete_next = False\n",
    "        for line in f_input:                    \n",
    "            if not delete_next:\n",
    "                delete = False\n",
    "                for word in unuseful_words:\n",
    "                    if word in line:\n",
    "                        delete = True\n",
    "                if line.strip() == '':\n",
    "                    delete = False\n",
    "                if not delete:\n",
    "                    fields = line.strip().split(';')\n",
    "                    f_output.write(';'.join(fields[:3] + fields[-5:-4]) + '\\n')\n",
    "\n",
    "                # Eliminar líneas posteriores al último municipio\n",
    "                if 'Zarzalejo' in line:\n",
    "                    delete_next = True\n",
    "\n",
    "\n",
    "clean_data('./original_data/densidad_poblacion.csv', '../union_2020/densidad_poblacion.csv')"
   ]
  },
  {
   "cell_type": "markdown",
   "metadata": {},
   "source": [
    "## Unión de los datos"
   ]
  },
  {
   "cell_type": "markdown",
   "metadata": {},
   "source": [
    "<b>Objetivo:</b> unir todos los archivos de la carpeta en uno solo, con sus encabezados correspondientes. Guardar el <i>.csv</i> resultante en la carpeta <i>union_final</i> para poder añadir los datos al archivo final."
   ]
  },
  {
   "cell_type": "code",
   "execution_count": 3,
   "metadata": {},
   "outputs": [],
   "source": [
    "import os, csv\n",
    "\n",
    "def join_data(folder_path, output_path):\n",
    "\n",
    "    # Crear un diccionario para almacenar los datos unidos\n",
    "    join_data = {}\n",
    "\n",
    "    # Obtener la lista de archivos en la carpeta\n",
    "    csv_files = os.listdir(folder_path)\n",
    "\n",
    "    # Iterar sobre cada archivo en la carpeta\n",
    "    for file in csv_files:\n",
    "        if file.endswith('.csv'):\n",
    "            with open(os.path.join(folder_path, file), 'r') as csv_file:\n",
    "                csv_reader = csv.reader(csv_file, delimiter=';')\n",
    "                # Saltar la primera fila que contiene los encabezados\n",
    "                next(csv_reader)\n",
    "                type = file.split('.')[0]\n",
    "                    \n",
    "                # Iterar sobre cada fila en el archivo CSV\n",
    "                for row in csv_reader:\n",
    "                    serie = row[0] if row else \"\"\n",
    "                    codigo_municipio = row[1] if len(row) > 1 else \"\"\n",
    "                    nombre = row[2] if len(row) > 2 else \"\"\n",
    "                    \n",
    "                    # Verificar si la serie, código de municipio y nombre ya están en el diccionario\n",
    "                    if (serie, codigo_municipio, nombre) not in join_data:\n",
    "                        join_data[(serie, codigo_municipio, nombre)] = {}\n",
    "\n",
    "                    # Obtener los datos de cada año para el intervalo de edad actual\n",
    "                    for i, valor in enumerate(row[3:5], start=2022):\n",
    "                        clave = f\"{type}_{i}\"\n",
    "                        join_data[(serie, codigo_municipio ,nombre)][clave] = valor\n",
    "\n",
    "    # Escribir los datos unidos en un nuevo archivo CSV\n",
    "    with open(output_path, 'w', newline='') as csv_file:\n",
    "        csv_writer = csv.writer(csv_file, delimiter=';')\n",
    "        final_keys = []\n",
    "\n",
    "        for key, values in join_data.items():\n",
    "            if final_keys == []:\n",
    "                final_keys.extend(values.keys())\n",
    "        final_keys = [str(clave) for clave in final_keys]\n",
    "        csv_writer.writerow(['Serie', 'Codigo_municipio', 'Nombre', *final_keys])\n",
    "\n",
    "        # Escribir los datos unidos\n",
    "        for key, values in join_data.items():\n",
    "            csv_writer.writerow([key[0], key[1], key[2], *values.values()])\n",
    "\n",
    "join_data('./clean_data', '../union_final/datos_poblacionales.csv')"
   ]
  }
 ],
 "metadata": {
  "kernelspec": {
   "display_name": "Python 3",
   "language": "python",
   "name": "python3"
  },
  "language_info": {
   "codemirror_mode": {
    "name": "ipython",
    "version": 3
   },
   "file_extension": ".py",
   "mimetype": "text/x-python",
   "name": "python",
   "nbconvert_exporter": "python",
   "pygments_lexer": "ipython3",
   "version": "3.9.0"
  }
 },
 "nbformat": 4,
 "nbformat_minor": 2
}
